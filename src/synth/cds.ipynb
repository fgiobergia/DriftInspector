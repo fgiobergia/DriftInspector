{
 "cells": [
  {
   "cell_type": "code",
   "execution_count": 21,
   "metadata": {},
   "outputs": [],
   "source": [
    "from sklearn.datasets import fetch_covtype\n",
    "\n",
    "import sys\n",
    "sys.path.append(\"..\")\n",
    "from divexp import *\n",
    "\n",
    "import numpy as np\n",
    "np.float = float\n",
    "from skmultiflow.data import ConceptDriftStream, AGRAWALGenerator, LEDGenerator\n",
    "\n",
    "from sklearn.tree import DecisionTreeClassifier\n",
    "from sklearn.metrics import accuracy_score\n",
    "from sklearn.preprocessing import KBinsDiscretizer\n",
    "import pandas as pd\n",
    "from detect import *\n"
   ]
  },
  {
   "cell_type": "code",
   "execution_count": 44,
   "metadata": {},
   "outputs": [],
   "source": [
    "class NoisyLEDGenerator(LEDGenerator):\n",
    "    def __init__(self, drift_from=None, drift_extent=0.1, *args, **kwargs):\n",
    "        super().__init__(*args, **kwargs)\n",
    "\n",
    "        if drift_from is None:\n",
    "            self.config = self._random_state.random(self.n_features)\n",
    "        else:\n",
    "            self._random_state.random(self.n_features)\n",
    "            noise = self._random_state.uniform(-drift_extent, +drift_extent, size=self.n_features)\n",
    "            self.config = drift_from.config + noise\n",
    "\n",
    "    \n",
    "    def next_sample(self, *args, **kwargs):\n",
    "        X, y = super().next_sample(*args, **kwargs)\n",
    "\n",
    "        flips = np.random.random(X.shape)\n",
    "\n",
    "        to_flip = flips < self.config\n",
    "\n",
    "        X[to_flip] = 1 - X[to_flip]\n",
    "        return X, y"
   ]
  },
  {
   "cell_type": "code",
   "execution_count": 45,
   "metadata": {},
   "outputs": [],
   "source": [
    "class SEAWrapper:\n",
    "    def __init__(self, random_state, noise_percentage=0.0):\n",
    "        self.stream=SEAGenerator(balance_classes=False, classification_function=2, noise_percentage=noise_percentage, random_state=random_state)\n",
    "        self.drift_stream=SEAGenerator(balance_classes=False, classification_function=3, noise_percentage=noise_percentage, random_state=random_state)\n",
    "        self.kb = KBinsDiscretizer(encode=\"onehot-dense\", n_bins=5, strategy=\"uniform\")\n",
    "        self.kb_fit = False\n",
    "    \n",
    "    def get_metadata(self, X):\n",
    "        features = [\"a\",\"b\",\"c\"]\n",
    "\n",
    "        if not self.kb_fit:\n",
    "            X_bin = self.kb.fit_transform(X).astype(bool)\n",
    "            self.kb_fit = True\n",
    "        else:\n",
    "            X_bin = self.kb.transform(X).astype(bool)\n",
    "        return pd.DataFrame(data=X_bin, columns=self.kb.get_feature_names_out(input_features=features))\n",
    "\n",
    "\n",
    "class AgrawalWrapper:\n",
    "    def __init__(self, random_state=None, perturbation=0.0):\n",
    "        self.stream=AGRAWALGenerator(balance_classes=False, classification_function=0, perturbation=perturbation, random_state=random_state)\n",
    "        self.drift_stream=AGRAWALGenerator(balance_classes=False, classification_function=2, perturbation=perturbation, random_state=random_state+1)\n",
    "        self.kb = KBinsDiscretizer(encode=\"onehot-dense\", n_bins=5, strategy=\"uniform\")\n",
    "        self.kb_fit = False\n",
    "    \n",
    "    def get_metadata(self, X):\n",
    "        features = [\"salary\",\n",
    "            \"commission\",\n",
    "            \"age\",\n",
    "            \"elevel\",\n",
    "            \"car\",\n",
    "            \"zipcode\",\n",
    "            \"hvalue\",\n",
    "            \"hyears\",\n",
    "            \"loan\"]\n",
    "\n",
    "        if not self.kb_fit:\n",
    "            X_bin = self.kb.fit_transform(X).astype(bool)\n",
    "            self.kb_fit = True\n",
    "        else:\n",
    "            X_bin = self.kb.transform(X).astype(bool)\n",
    "        return pd.DataFrame(data=X_bin, columns=self.kb.get_feature_names_out(input_features=features))\n",
    "\n",
    "class LEDWrapper:\n",
    "    def __init__(self, random_state, bounded_drift=False, noise_percentage=0.0):\n",
    "        self.stream = NoisyLEDGenerator(random_state=random_state, noise_percentage=noise_percentage)\n",
    "        if bounded_drift:\n",
    "            self.drift_stream = NoisyLEDGenerator(drift_from=self.stream,\n",
    "                                                  drift_extent=bounded_drift,\n",
    "                                                  random_state=random_state+1,\n",
    "                                                  noise_percentage=noise_percentage\n",
    "            )\n",
    "        else:\n",
    "            self.drift_stream = NoisyLEDGenerator(random_state=random_state+1, noise_percentage=noise_percentage)\n",
    "        self.n_features = self.stream.n_features\n",
    "    \n",
    "    def get_metadata(self, X):\n",
    "        return pd.DataFrame(data=X.astype(bool), columns=[f\"feature {i}\" for i in range(self.n_features)])\n",
    "\n",
    "class RBFWrapper:\n",
    "    def __init__(self, random_state, **kwargs):\n",
    "        self.stream = RandomRBFGenerator(model_random_state=random_state, **kwargs)\n",
    "        self.drift_stream = RandomRBFGenerator(model_random_state=random_state+1, **kwargs)\n",
    "        self.kb = KBinsDiscretizer(encode=\"onehot-dense\", n_bins=5, strategy=\"uniform\")\n",
    "        self.kb_fit = False\n",
    "    \n",
    "    def get_metadata(self, X):\n",
    "        if not self.kb_fit:\n",
    "            X_bin = self.kb.fit_transform(X).astype(bool)\n",
    "            self.kb_fit = True\n",
    "        else:\n",
    "            X_bin = self.kb.transform(X).astype(bool)\n",
    "        return pd.DataFrame(data=X_bin, columns=self.kb.get_feature_names_out())\n",
    "\n",
    "\n"
   ]
  },
  {
   "cell_type": "code",
   "execution_count": 46,
   "metadata": {},
   "outputs": [],
   "source": [
    "from skmultiflow.data import RandomRBFGeneratorDrift, RandomRBFGenerator, SEAGenerator"
   ]
  },
  {
   "cell_type": "code",
   "execution_count": 47,
   "metadata": {},
   "outputs": [],
   "source": [
    "def train_and_drift(DataSource, drift=True, ds_kwargs={}, train_size=5_000, n_batches=50, batch_size=200, ClfModel=DecisionTreeClassifier, clf_kwargs={}):\n",
    "    tot_samples = n_batches * batch_size # total number of samples\n",
    "    position = (n_batches // 2) * batch_size # \"center\" of the drift\n",
    "    width = (n_batches // 4) * batch_size # size of the transitory\n",
    "\n",
    "    data_source = DataSource(**ds_kwargs)\n",
    "    stream = data_source.stream\n",
    "    drift_stream = data_source.drift_stream\n",
    "\n",
    "    if drift:\n",
    "        cds = ConceptDriftStream(stream=stream, drift_stream=drift_stream, position=position, width=width)\n",
    "    else:\n",
    "        cds = ConceptDriftStream(stream=stream, drift_stream=stream, position=position, width=width) # no drift!\n",
    "\n",
    "    X_train, y_train = stream.next_sample(train_size)\n",
    "\n",
    "    clf = ClfModel(**clf_kwargs)\n",
    "    clf.fit(X_train, y_train)\n",
    "    \n",
    "    df_meta = data_source.get_metadata(X_train)\n",
    "    matches = compute_matches(df_meta, minsup=0.1)\n",
    "\n",
    "    divs = []\n",
    "    matches_ts_list = []\n",
    "    accuracies = []\n",
    "\n",
    "    # for other detection methods\n",
    "    # for i in range(tot_samples):\n",
    "    #     x_batch, y_batch = cds.next_sample()\n",
    "    #     y_pred = clf.predict(x_batch)\n",
    "    #     drift_detector_method.add(y_pred == y_batch)\n",
    "\n",
    "    for start_ndx in range(0, tot_samples, batch_size):\n",
    "        X_batch, y_batch = cds.next_sample(batch_size)\n",
    "        \n",
    "        y_pred = clf.predict(X_batch)\n",
    "\n",
    "        # Workaround for multi-class problems -- works with accuracy!\n",
    "        y_pred = y_batch == y_pred\n",
    "        y_batch = np.ones(len(y_batch))\n",
    "\n",
    "        accuracies.append(accuracy_score(y_batch, y_pred))\n",
    "\n",
    "        df_batch_bin = data_source.get_metadata(X_batch)\n",
    "        matches_ts = compute_matches(df_batch_bin, fi=matches.fi)\n",
    "        matches_ts = Matches(matches=matches_ts.matches.astype(int), fi=matches.fi)\n",
    "\n",
    "        divs.append(div_explorer(matches_ts, y_batch, y_pred, ['accuracy']))\n",
    "        matches_ts_list.append(matches_ts)\n",
    "\n",
    "    delta, t_stat = detect_singlebatch(divs, 'accuracy', (0,5), (45,50))\n",
    "\n",
    "    return delta.min(), t_stat.max()"
   ]
  },
  {
   "cell_type": "code",
   "execution_count": 78,
   "metadata": {},
   "outputs": [
    {
     "name": "stdout",
     "output_type": "stream",
     "text": [
      "0 True 3.6220727059105 -0.17094017094017094\n",
      "1 True 3.0459501027319402 -0.09214941716707878\n",
      "2 True 2.5133413490875425 -0.05807423640597176\n",
      "3 True 4.413226667494969 -0.21671826625386997\n",
      "4 True 5.953289755667476 -0.28446852425180597\n",
      "5 True 3.226020140947122 -0.16096009253903992\n",
      "6 True 7.027910248023945 -0.3139596602972399\n",
      "7 True 2.7350670196241795 -0.08079125455491931\n",
      "8 True 7.145703832311698 -0.3332561371005095\n",
      "9 True 5.708247393398797 -0.1943290402991275\n",
      "10 True 3.86606586221984 -0.20367005813953487\n",
      "11 True 5.510516658136416 -0.1844326004885632\n",
      "12 True 2.85553944239978 -0.1576190476190476\n",
      "13 True 4.619855169550239 -0.22067448680351903\n",
      "14 True 4.873599960887386 -0.2135497529992943\n",
      "15 True 2.6450981616275886 -0.10702772404900066\n",
      "16 True 3.0981361755758767 -0.16555407209612816\n",
      "17 True 4.703324312603157 -0.1142263759086189\n",
      "18 True 3.404323814722913 -0.10027472527472525\n",
      "19 True 4.132055890420066 -0.04113809351214204\n",
      "20 True 4.603816683924325 -0.22393442622950827\n",
      "21 True 2.7892899369120876 -0.1479020979020979\n",
      "22 True 5.655474480949771 -0.25772626931567333\n",
      "23 True 5.640200207604492 -0.26708074534161486\n",
      "24 True 2.28659678760416 -0.1519391261659303\n",
      "25 True 4.955553230239743 -0.004625295963878617\n",
      "26 True 5.320393092098851 0.01904761904761909\n",
      "27 True 5.648575921218611 -0.28741384194127095\n",
      "28 True 2.720983513563308 -0.1459612659423713\n",
      "29 True 4.40533781395288 -0.2284837494769145\n",
      "30 True 2.9540575510553246 -0.14199999999999996\n",
      "31 True 5.5425703182204185 -0.24258843222765514\n",
      "32 True 4.378733161291701 -0.08530417968168974\n",
      "33 True 6.896676536575808 -0.12250233426704016\n",
      "34 True 3.4911023345139927 0.06089804143837779\n",
      "35 True 2.112114182003609 -0.09859266287160023\n",
      "36 True 2.950096356612971 -0.13224315677212944\n",
      "37 True 2.0037779349569966 -0.11054909527037599\n",
      "38 True 4.873496195587969 -0.10816723383568305\n",
      "39 True 1.754542070649184 -0.04188590418166713\n",
      "40 True 3.788369914970822 -0.17353017353017353\n",
      "41 True 4.157764019002789 -0.2531136381217607\n",
      "42 True 4.223756058547979 -0.2415625\n",
      "43 True 4.284729098244426 -0.15392246642246643\n",
      "44 True 3.978300838436559 -0.21159420289855074\n",
      "45 True 4.545927579092884 -0.1699637023593466\n",
      "46 True 4.854056989975353 -0.29455579631635975\n",
      "47 True 3.1971515969750595 -0.182\n",
      "48 True 3.143769268701875 -0.0625\n",
      "49 True 5.289685071573339 -0.22884363908088926\n",
      "0 False 1.4120428870152153 -0.07866707242848447\n",
      "1 False 2.626951593675374 -0.14159292035398224\n",
      "2 False 2.5473154624332013 -0.02493481095176009\n",
      "3 False 1.366328770307479 -0.04284611425630469\n",
      "4 False 2.611883057858793 -0.15573593073593073\n",
      "5 False 2.7976996213925727 -0.08232821637426907\n",
      "6 False 1.8570572439311972 -0.14253611556982343\n",
      "7 False 2.1279221800376695 -0.14432989690721654\n",
      "8 False 1.4797747005030721 -0.058882882882882875\n",
      "9 False 2.737781328268464 -0.10183948968995693\n",
      "10 False 2.2398977384288057 -0.06313571693482842\n",
      "11 False 1.876241497850629 -0.08846153846153842\n",
      "12 False 1.9511218282210436 -0.016681092139428755\n",
      "13 False 2.177932058975001 -0.10927188142378014\n",
      "14 False 3.0357292310893156 -0.055480946785294624\n",
      "15 False 1.7496045577732697 -0.07956466610312768\n",
      "16 False 1.2502158758451003 -0.0827272727272727\n",
      "17 False 1.7190638252450094 -0.11145320197044334\n",
      "18 False 2.0859711651199513 -0.12336284102086242\n",
      "19 False 2.176663349931455 -0.06476190476190474\n",
      "20 False 2.5272727482740933 -0.12881514061042254\n",
      "21 False 2.8689686972352693 -0.16397656623625062\n",
      "22 False 2.199555873700206 -0.04350515463917526\n",
      "23 False 2.4862129988439468 -0.04768712669970772\n",
      "24 False 2.448393996586521 -0.14400194269062655\n",
      "25 False 2.7868251639693318 -0.15789473684210525\n",
      "26 False 1.3125099221878391 -0.05930593059305933\n",
      "27 False 2.4646863317188568 -0.14\n",
      "28 False 1.2721250343674924 -0.07468061390722797\n",
      "29 False 2.10858828064987 -0.10482180293501048\n",
      "30 False 1.800950007800656 -0.10888364779874216\n",
      "31 False 2.2275724822993435 -0.12244897959183676\n",
      "32 False 2.4451158339223404 -0.1607142857142857\n",
      "33 False 1.6670407441467592 -0.07912667043101823\n",
      "34 False 1.8502442693580834 -0.08870967741935482\n",
      "35 False 1.698078801124207 -0.06658238516645595\n",
      "36 False 2.8788872944799473 -0.015239840106595626\n",
      "37 False 2.5542838496275677 -0.07888439281207849\n",
      "38 False 2.049315569723686 -0.11120129870129875\n",
      "39 False 1.5910287468751074 -0.06166930379746832\n",
      "40 False 2.2072277992538742 -0.13256343526350034\n",
      "41 False 2.314858078383338 -0.11233307148468186\n",
      "42 False 1.5073660580598969 -0.0675799086757991\n",
      "43 False 1.5843122105143657 -0.09032747777054867\n",
      "44 False 2.6116326538484103 -0.08143589743589744\n",
      "45 False 2.27203304080594 -0.14157486740106076\n",
      "46 False 1.562250289880834 -0.08167675021607601\n",
      "47 False 2.146226461939755 -0.09173980382034075\n",
      "48 False 2.219038716551857 -0.11012987012987013\n",
      "49 False 2.131588394522637 -0.13990654205607478\n"
     ]
    }
   ],
   "source": [
    "n_exp = 100\n",
    "train_size = 5_000\n",
    "\n",
    "n_batches = 50\n",
    "batch_size=200\n",
    "\n",
    "tstats = np.empty(n_exp)\n",
    "deltas = np.empty(n_exp)\n",
    "gt = np.empty(n_exp)\n",
    "\n",
    "exp_type = \"led\"\n",
    "\n",
    "if exp_type == \"agrawal\":\n",
    "    DataClass = AgrawalWrapper\n",
    "    data_kwargs = {\"perturbation\": 0.5}\n",
    "if exp_type == \"sea\":\n",
    "    DataClass = SEAWrapper\n",
    "    data_kwargs = {\"noise_percentage\": 0.4}\n",
    "elif exp_type == \"led\":\n",
    "    DataClass = LEDWrapper\n",
    "    data_kwargs = {\"bounded_drift\": 0.25, \"noise_percentage\": 0.1}\n",
    "elif exp_type == \"rbf\":\n",
    "    DataClass = RBFWrapper\n",
    "    data_kwargs = {}\n",
    "\n",
    "i = 0\n",
    "for drift in [True, False]:\n",
    "    for exp in range(n_exp//2): # positive samples\n",
    "\n",
    "        delta, tstat = train_and_drift(DataClass,\n",
    "                                       ds_kwargs={ \"random_state\": i, **data_kwargs },\n",
    "                                       drift=drift,\n",
    "                                       train_size=train_size,\n",
    "                                       n_batches=n_batches,\n",
    "                                       batch_size=batch_size,\n",
    "                                       ClfModel=DecisionTreeClassifier,\n",
    "                                       clf_kwargs={}\n",
    "        )\n",
    "\n",
    "        deltas[i] = delta\n",
    "        tstats[i] = tstat\n",
    "        gt[i] = drift\n",
    "        print(exp, drift, tstats[i], deltas[i])\n",
    "        \n",
    "        i += 1\n"
   ]
  },
  {
   "cell_type": "code",
   "execution_count": 80,
   "metadata": {},
   "outputs": [
    {
     "name": "stdout",
     "output_type": "stream",
     "text": [
      "0.1459612659423713\n"
     ]
    },
    {
     "data": {
      "text/plain": [
       "<matplotlib.collections.PathCollection at 0x7f3fbae56b00>"
      ]
     },
     "execution_count": 80,
     "metadata": {},
     "output_type": "execute_result"
    },
    {
     "data": {
      "image/png": "[encoded data removed]",
      "text/plain": [
       "<Figure size 640x480 with 1 Axes>"
      ]
     },
     "metadata": {},
     "output_type": "display_data"
    }
   ],
   "source": [
    "from sklearn.metrics import roc_curve\n",
    "import matplotlib.pyplot as plt\n",
    "from sklearn.metrics import f1_score\n",
    "\n",
    "fpr, tpr, thresh = roc_curve(gt, -deltas)\n",
    "plt.plot(fpr, tpr)\n",
    "\n",
    "best_thresh = thresh[(tpr - fpr).argmax()]\n",
    "print(best_thresh)\n",
    "plt.scatter([fpr[(tpr - fpr).argmax()]], [tpr[(tpr - fpr).argmax()]], marker='x', c='r')"
   ]
  },
  {
   "cell_type": "code",
   "execution_count": 81,
   "metadata": {},
   "outputs": [
    {
     "name": "stdout",
     "output_type": "stream",
     "text": [
      "2.950096356612971\n"
     ]
    },
    {
     "data": {
      "text/plain": [
       "<matplotlib.collections.PathCollection at 0x7f3fb5dc4d60>"
      ]
     },
     "execution_count": 81,
     "metadata": {},
     "output_type": "execute_result"
    },
    {
     "data": {
      "image/png": "[encoded data removed]",
      "text/plain": [
       "<Figure size 640x480 with 1 Axes>"
      ]
     },
     "metadata": {},
     "output_type": "display_data"
    }
   ],
   "source": [
    "from sklearn.metrics import roc_curve\n",
    "from sklearn.metrics import f1_score\n",
    "\n",
    "fpr, tpr, thresh = roc_curve(gt, tstats)\n",
    "plt.plot(fpr, tpr)\n",
    "\n",
    "best_thresh = thresh[(tpr - fpr).argmax()]\n",
    "print(best_thresh)\n",
    "plt.scatter([fpr[(tpr - fpr).argmax()]], [tpr[(tpr - fpr).argmax()]], marker='x', c='r')"
   ]
  },
  {
   "cell_type": "code",
   "execution_count": 82,
   "metadata": {},
   "outputs": [
    {
     "data": {
      "text/plain": [
       "<matplotlib.lines.Line2D at 0x7f3fb5d0c550>"
      ]
     },
     "execution_count": 82,
     "metadata": {},
     "output_type": "execute_result"
    },
    {
     "data": {
      "image/png": "[encoded data removed]",
      "text/plain": [
       "<Figure size 640x480 with 1 Axes>"
      ]
     },
     "metadata": {},
     "output_type": "display_data"
    }
   ],
   "source": [
    "import matplotlib.pyplot as plt\n",
    "\n",
    "plt.hist(tstats[gt==0], alpha=.5, label=\"Negative t-stats\")\n",
    "plt.hist(tstats[gt==1], alpha=.5, label=\"Positive t-stats\")\n",
    "plt.axvline(best_thresh)"
   ]
  },
  {
   "cell_type": "code",
   "execution_count": 83,
   "metadata": {},
   "outputs": [
    {
     "name": "stdout",
     "output_type": "stream",
     "text": [
      "accuracy 0.89\n",
      "f1 score 0.8791208791208791\n",
      "fpr 0.02\n",
      "fnr 0.2\n"
     ]
    }
   ],
   "source": [
    "y_pred = np.array(tstats) >= best_thresh\n",
    "\n",
    "print(\"accuracy\", accuracy_score(gt, y_pred))\n",
    "print(\"f1 score\", f1_score(gt, y_pred))\n",
    "\n",
    "from sklearn.metrics import confusion_matrix\n",
    "\n",
    "tn, fp, fn, tp = confusion_matrix(gt, y_pred).ravel()\n",
    "\n",
    "print(\"fpr\", fp / (fp + tn))\n",
    "print(\"fnr\", fn / (fn + tp))"
   ]
  },
  {
   "cell_type": "code",
   "execution_count": 88,
   "metadata": {},
   "outputs": [],
   "source": [
    "import pandas as pd\n",
    "\n",
    "def train_and_drift_insect(insect_type, train_size=5_000, batch_size=200, ClfModel=DecisionTreeClassifier, clf_kwargs={}):\n",
    "\n",
    "    known = {\n",
    "        \"abrupt\": \"INSECTS-abrupt_balanced_norm.csv\",\n",
    "        \"gradual\": \"INSECTS-gradual_balanced_norm.csv\",\n",
    "        \"incremental\": \"INSECTS-incremental_balanced_norm.csv\"\n",
    "    }\n",
    "    if insect_type not in known:\n",
    "        raise Exception(\"Unknown\", insect_type)\n",
    "\n",
    "    df = pd.read_csv(known[insect_type])\n",
    "\n",
    "    tot_samples = len(df)\n",
    "\n",
    "    X = df.values[:, :-1]\n",
    "    y = df.values[:, -1]\n",
    "\n",
    "    X_train = X[:train_size]\n",
    "    y_train = y[:train_size]\n",
    "\n",
    "    clf = ClfModel(**clf_kwargs)\n",
    "    clf.fit(X_train, y_train)\n",
    "\n",
    "    kb = KBinsDiscretizer(n_bins=5, encode=\"onehot-dense\")\n",
    "    df_meta = pd.DataFrame(kb.fit_transform(X_train).astype(bool), columns=kb.get_feature_names_out())\n",
    "    matches = compute_matches(df_meta, minsup=0.1)\n",
    "    print(\"Itemsets\", len(matches.fi))\n",
    "\n",
    "    divs = []\n",
    "    matches_ts_list = []\n",
    "    accuracies = []\n",
    "\n",
    "    deltas = []\n",
    "    tstats = []\n",
    "\n",
    "    win_size = 5\n",
    "    most_div = []\n",
    "\n",
    "    for start_ndx in range(train_size, tot_samples, batch_size):\n",
    "        # X_batch, y_batch = cds.next_sample(batch_size)\n",
    "        X_batch = X[start_ndx:start_ndx+batch_size]\n",
    "        y_batch = y[start_ndx:start_ndx+batch_size]\n",
    "        \n",
    "        y_pred = clf.predict(X_batch)\n",
    "\n",
    "        # Workaround for multi-class problems -- works with accuracy!\n",
    "        y_pred = y_batch == y_pred\n",
    "        y_batch = np.ones(len(y_batch))\n",
    "\n",
    "        accuracies.append(accuracy_score(y_batch, y_pred))\n",
    "\n",
    "        df_batch_bin = pd.DataFrame(kb.transform(X_batch).astype(bool), columns=kb.get_feature_names_out())\n",
    "        matches_ts = compute_matches(df_batch_bin, fi=matches.fi)\n",
    "        matches_ts = Matches(matches=matches_ts.matches.astype(int), fi=matches.fi)\n",
    "\n",
    "        divs.append(div_explorer(matches_ts, y_batch, y_pred, ['accuracy']))\n",
    "        matches_ts_list.append(matches_ts)\n",
    "\n",
    "        if len(divs) >= win_size * 2:\n",
    "            delta, t_stat = detect_singlebatch(divs, 'accuracy', (0,win_size), (len(divs)-win_size,len(divs)))\n",
    "            deltas.append(delta.min())\n",
    "            tstats.append(t_stat.max())\n",
    "            most_div.append(t_stat.idxmax())\n",
    "\n",
    "    return deltas, tstats, most_div"
   ]
  },
  {
   "cell_type": "code",
   "execution_count": 89,
   "metadata": {},
   "outputs": [
    {
     "name": "stdout",
     "output_type": "stream",
     "text": [
      "Itemsets 333\n"
     ]
    },
    {
     "data": {
      "image/png": "[encoded data removed]",
      "text/plain": [
       "<Figure size 640x480 with 1 Axes>"
      ]
     },
     "metadata": {},
     "output_type": "display_data"
    }
   ],
   "source": [
    "\n",
    "fig, ax = plt.subplots()\n",
    "deltas, tstats, md = train_and_drift_insect(\"incremental\")\n",
    "\n",
    "ax.plot(tstats, c='b')\n",
    "ax.set_xlabel(\"Batch\")\n",
    "ax.set_ylabel(\"t statistic\")\n",
    "ax.grid()"
   ]
  }
 ],
 "metadata": {
  "kernelspec": {
   "display_name": "Python 3",
   "language": "python",
   "name": "python3"
  },
  "language_info": {
   "codemirror_mode": {
    "name": "ipython",
    "version": 3
   },
   "file_extension": ".py",
   "mimetype": "text/x-python",
   "name": "python",
   "nbconvert_exporter": "python",
   "pygments_lexer": "ipython3",
   "version": "3.10.12"
  }
 },
 "nbformat": 4,
 "nbformat_minor": 2
}
