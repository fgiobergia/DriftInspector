{
 "cells": [
  {
   "cell_type": "code",
   "execution_count": 1,
   "metadata": {},
   "outputs": [],
   "source": [
    "from sklearn.datasets import fetch_covtype\n",
    "\n",
    "import sys\n",
    "sys.path.append(\"..\")\n",
    "from divexp import *\n",
    "\n",
    "import numpy as np\n",
    "np.float = float\n",
    "from skmultiflow.data import ConceptDriftStream, AGRAWALGenerator, LEDGenerator\n",
    "\n",
    "from sklearn.tree import DecisionTreeClassifier\n",
    "from sklearn.metrics import accuracy_score\n",
    "from sklearn.preprocessing import KBinsDiscretizer\n",
    "import pandas as pd\n",
    "from detect import *\n"
   ]
  },
  {
   "cell_type": "code",
   "execution_count": 2,
   "metadata": {},
   "outputs": [],
   "source": [
    "class NoisyLEDGenerator(LEDGenerator):\n",
    "    def __init__(self, drift_from=None, drift_extent=0.1, *args, **kwargs):\n",
    "        super().__init__(*args, **kwargs)\n",
    "\n",
    "        if drift_from is None:\n",
    "            self.config = self._random_state.random(self.n_features)\n",
    "        else:\n",
    "            self._random_state.random(self.n_features)\n",
    "            noise = self._random_state.uniform(-drift_extent, +drift_extent, size=self.n_features)\n",
    "            self.config = drift_from.config + noise\n",
    "\n",
    "    \n",
    "    def next_sample(self, *args, **kwargs):\n",
    "        X, y = super().next_sample(*args, **kwargs)\n",
    "\n",
    "        flips = np.random.random(X.shape)\n",
    "\n",
    "        to_flip = flips < self.config\n",
    "\n",
    "        X[to_flip] = 1 - X[to_flip]\n",
    "        return X, y"
   ]
  },
  {
   "cell_type": "code",
   "execution_count": 9,
   "metadata": {},
   "outputs": [],
   "source": [
    "class AgrawalWrapper:\n",
    "    def __init__(self, random_state):\n",
    "        self.stream=AGRAWALGenerator(balance_classes=False, classification_function=0, perturbation=perturbation, random_state=random_state)\n",
    "        self.drift_stream=AGRAWALGenerator(balance_classes=False, classification_function=2, perturbation=perturbation, random_state=random_state+1)\n",
    "        self.kb = KBinsDiscretizer(encode=\"onehot-dense\", n_bins=5, strategy=\"uniform\")\n",
    "        self.kb_fit = False\n",
    "    \n",
    "    def get_metadata(self, X):\n",
    "        features = [\"salary\",\n",
    "            \"commission\",\n",
    "            \"age\",\n",
    "            \"elevel\",\n",
    "            \"car\",\n",
    "            \"zipcode\",\n",
    "            \"hvalue\",\n",
    "            \"hyears\",\n",
    "            \"loan\"]\n",
    "\n",
    "        if not self.kb_fit:\n",
    "            X_bin = self.kb.fit_transform(X).astype(bool)\n",
    "            self.kb_fit = True\n",
    "        else:\n",
    "            X_bin = self.kb.transform(X).astype(bool)\n",
    "        return pd.DataFrame(data=X_bin, columns=self.kb.get_feature_names_out(input_features=features))\n",
    "\n",
    "class LEDWrapper:\n",
    "    def __init__(self, random_state, bounded_drift=False):\n",
    "        self.stream = NoisyLEDGenerator(random_state=random_state)\n",
    "        if bounded_drift:\n",
    "            self.drift_stream = NoisyLEDGenerator(drift_from=self.stream,\n",
    "                                                  drift_extent=bounded_drift,\n",
    "                                                  random_state=random_state+1\n",
    "            )\n",
    "        else:\n",
    "            self.drift_stream = NoisyLEDGenerator(random_state=random_state+1)\n",
    "        self.n_features = self.stream.n_features\n",
    "    \n",
    "    def get_metadata(self, X):\n",
    "        return pd.DataFrame(data=X.astype(bool), columns=[f\"feature {i}\" for i in range(self.n_features)])\n",
    "    \n",
    "    "
   ]
  },
  {
   "cell_type": "code",
   "execution_count": 10,
   "metadata": {},
   "outputs": [],
   "source": [
    "def train_and_drift(DataSource, drift=True, ds_kwargs={}, train_size=5_000, n_batches=50, batch_size=200, ClfModel=DecisionTreeClassifier, clf_kwargs={}):\n",
    "    tot_samples = n_batches * batch_size # total number of samples\n",
    "    position = (n_batches // 2) * batch_size # \"center\" of the drift\n",
    "    width = (n_batches // 4) * batch_size # size of the transitory\n",
    "\n",
    "    data_source = DataSource(**ds_kwargs)\n",
    "    stream = data_source.stream\n",
    "    drift_stream = data_source.drift_stream\n",
    "\n",
    "    if drift:\n",
    "        cds = ConceptDriftStream(stream=stream, drift_stream=drift_stream, position=position, width=width)\n",
    "    else:\n",
    "        cds = ConceptDriftStream(stream=stream, drift_stream=stream, position=position, width=width) # no drift!\n",
    "\n",
    "    X_train, y_train = stream.next_sample(train_size)\n",
    "\n",
    "    clf = ClfModel(**clf_kwargs)\n",
    "    clf.fit(X_train, y_train)\n",
    "    \n",
    "    df_meta = data_source.get_metadata(X_train)\n",
    "    matches = compute_matches(df_meta, minsup=0.1)\n",
    "\n",
    "    divs = []\n",
    "    matches_ts_list = []\n",
    "    accuracies = []\n",
    "\n",
    "    # for other detection methods\n",
    "    # for i in range(tot_samples):\n",
    "    #     x_batch, y_batch = cds.next_sample()\n",
    "    #     y_pred = clf.predict(x_batch)\n",
    "    #     drift_detector_method.add(y_pred == y_batch)\n",
    "\n",
    "    for start_ndx in range(0, tot_samples, batch_size):\n",
    "        X_batch, y_batch = cds.next_sample(batch_size)\n",
    "        \n",
    "        y_pred = clf.predict(X_batch)\n",
    "\n",
    "        # Workaround for multi-class problems -- works with accuracy!\n",
    "        y_pred = y_batch == y_pred\n",
    "        y_batch = np.ones(len(y_batch))\n",
    "\n",
    "        accuracies.append(accuracy_score(y_batch, y_pred))\n",
    "\n",
    "        df_batch_bin = data_source.get_metadata(X_batch)\n",
    "        matches_ts = compute_matches(df_batch_bin, fi=matches.fi)\n",
    "        matches_ts = Matches(matches=matches_ts.matches.astype(int), fi=matches.fi)\n",
    "\n",
    "        divs.append(div_explorer(matches_ts, y_batch, y_pred, ['accuracy']))\n",
    "        matches_ts_list.append(matches_ts)\n",
    "\n",
    "    delta, t_stat = detect_singlebatch(divs, 'accuracy', (0,5), (45,50))\n",
    "\n",
    "    return delta.min(), t_stat.max()"
   ]
  },
  {
   "cell_type": "code",
   "execution_count": 11,
   "metadata": {},
   "outputs": [
    {
     "name": "stdout",
     "output_type": "stream",
     "text": [
      "0 True 5.700112432704166\n",
      "1 True 3.7145328502188777\n",
      "2 True 4.660959121583889\n",
      "0 False 2.4281330797349794\n",
      "1 False 1.9025791266961853\n",
      "2 False 1.7318531073781511\n"
     ]
    }
   ],
   "source": [
    "n_exp = 6\n",
    "train_size = 5_000\n",
    "\n",
    "n_batches = 50\n",
    "batch_size=200\n",
    "\n",
    "tstats = np.empty(n_exp)\n",
    "deltas = np.empty(n_exp)\n",
    "gt = np.empty(n_exp)\n",
    "\n",
    "exp_type = \"led\"\n",
    "\n",
    "if exp_type == \"agrawal\":\n",
    "    DataClass = AgrawalWrapper\n",
    "    data_kwargs = {\"perturbation\": 0.5}\n",
    "elif exp_type == \"led\":\n",
    "    DataClass = LEDWrapper\n",
    "    data_kwargs = {\"bounded_drift\": 0.5}\n",
    "\n",
    "i = 0\n",
    "for drift in [True, False]:\n",
    "    for exp in range(n_exp//2): # positive samples\n",
    "\n",
    "        delta, tstat = train_and_drift(DataClass,\n",
    "                                       ds_kwargs={ \"random_state\": i, **data_kwargs },\n",
    "                                       drift=drift,\n",
    "                                       train_size=train_size,\n",
    "                                       n_batches=n_batches,\n",
    "                                       batch_size=batch_size,\n",
    "                                       ClfModel=DecisionTreeClassifier,\n",
    "                                       clf_kwargs={}\n",
    "        )\n",
    "\n",
    "        deltas[i] = delta\n",
    "        tstats[i] = tstat\n",
    "        gt[i] = drift\n",
    "        print(exp, drift, tstats[i])\n",
    "        \n",
    "        i += 1\n"
   ]
  },
  {
   "cell_type": "code",
   "execution_count": 18,
   "metadata": {},
   "outputs": [
    {
     "name": "stdout",
     "output_type": "stream",
     "text": [
      "3.7145328502188777\n"
     ]
    },
    {
     "data": {
      "image/png": "[encoded data removed]",
      "text/plain": [
       "<Figure size 640x480 with 1 Axes>"
      ]
     },
     "metadata": {},
     "output_type": "display_data"
    }
   ],
   "source": [
    "from sklearn.metrics import roc_curve\n",
    "from sklearn.metrics import f1_score\n",
    "\n",
    "fpr, tpr, thresh = roc_curve(gt, tstats)\n",
    "plt.plot(fpr, tpr)\n",
    "\n",
    "best_thresh = thresh[(tpr - fpr).argmax()]\n",
    "print(best_thresh)"
   ]
  },
  {
   "cell_type": "code",
   "execution_count": 19,
   "metadata": {},
   "outputs": [
    {
     "data": {
      "text/plain": [
       "<matplotlib.lines.Line2D at 0x7f32119eb790>"
      ]
     },
     "execution_count": 19,
     "metadata": {},
     "output_type": "execute_result"
    },
    {
     "data": {
      "image/png": "[encoded data removed]",
      "text/plain": [
       "<Figure size 640x480 with 1 Axes>"
      ]
     },
     "metadata": {},
     "output_type": "display_data"
    }
   ],
   "source": [
    "import matplotlib.pyplot as plt\n",
    "\n",
    "plt.hist(tstats[gt==0], alpha=.5, label=\"Negative t-stats\")\n",
    "plt.hist(tstats[gt==1], alpha=.5, label=\"Positive t-stats\")\n",
    "plt.axvline(best_thresh)"
   ]
  },
  {
   "cell_type": "code",
   "execution_count": 20,
   "metadata": {},
   "outputs": [
    {
     "name": "stdout",
     "output_type": "stream",
     "text": [
      "1.0\n",
      "1.0\n"
     ]
    }
   ],
   "source": [
    "y_pred = np.array(tstats) >= best_thresh\n",
    "\n",
    "print(accuracy_score(gt, y_pred))\n",
    "print(f1_score(gt, y_pred))"
   ]
  }
 ],
 "metadata": {
  "kernelspec": {
   "display_name": "Python 3",
   "language": "python",
   "name": "python3"
  },
  "language_info": {
   "codemirror_mode": {
    "name": "ipython",
    "version": 3
   },
   "file_extension": ".py",
   "mimetype": "text/x-python",
   "name": "python",
   "nbconvert_exporter": "python",
   "pygments_lexer": "ipython3",
   "version": "3.10.12"
  }
 },
 "nbformat": 4,
 "nbformat_minor": 2
}
