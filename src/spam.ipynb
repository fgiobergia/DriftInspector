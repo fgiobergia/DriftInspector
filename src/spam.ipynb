{
 "cells": [
  {
   "cell_type": "code",
   "execution_count": 76,
   "metadata": {},
   "outputs": [],
   "source": [
    "import pandas as pd\n",
    "\n",
    "df = pd.read_csv(\"enron_spam_data.csv\")"
   ]
  },
  {
   "cell_type": "code",
   "execution_count": 98,
   "metadata": {},
   "outputs": [
    {
     "name": "stdout",
     "output_type": "stream",
     "text": [
      "('christmas tree farm pictures', '', 0)\n",
      "('fw : this is the solution i mentioned lsc', 'oo\\nthank you ,\\nyour email address was obtained from a purchased list ,\\nreference # 2020 mid = 3300 . if you wish to unsubscribe\\nfrom this list , please click here and enter\\nyour name into the remove box . if you have previously unsubscribed\\nand are still receiving this message , you may email our abuse\\ncontrol center , or call 1 - 888 - 763 - 2497 , or write us at : nospam ,\\n6484 coral way , miami , fl , 33155 \" . © 2002\\nweb credit inc . all rights reserved .', 1)\n",
      "('research group move to the 19 th floor', 'hello all :\\nin case any of you feel energetic , \" the boxes are here \" . they are located\\nat 2963 b ( michael sergeev \\' s old desk ) . feel free to take as many as\\nyou will need . be sure to label everything with your new office location .\\nif your file cabinets lock , you can just label them and lock them .\\nagain , listed below is your new office location :\\nstinson gibner eb 1936\\njoseph hrgovcic eb 1947\\npaulo issler eb 1935\\nvince kaminski eb 1933\\nkrishna krishnarao eb 1938\\nmartin lin eb 1930 e\\ngrant masson eb 1941\\nkevin moore eb 1944\\nmaureen raymond eb 1928\\nmike roberts eb 1945\\nvasant shanbhogue eb 1949\\nvincent tang eb 1934\\nravi thuraisingham eb 1932\\nzimin lu eb 1942\\nif you have any questions , or need any assistance , please contact me , kevin ,\\nor sam .\\nthanks and have a great day !\\nshirley\\n3 - 5290', 0)\n",
      "('fw : this is the solution i mentioned lsc', 'oo\\nthank you ,\\nyour email address was obtained from a purchased list ,\\nreference # 2020 mid = 3300 . if you wish to unsubscribe\\nfrom this list , please click here and enter\\nyour name into the remove box . if you have previously unsubscribed\\nand are still receiving this message , you may email our abuse\\ncontrol center , or call 1 - 888 - 763 - 2497 , or write us at : nospam ,\\n6484 coral way , miami , fl , 33155 \" . © 2002\\nweb credit inc . all rights reserved .', 1)\n",
      "('re : visit to enron', 'vince ,\\ndec . 29 at 9 : 00 will be fine . i have talked to shirley and have\\ndirections .\\nthanks , bob\\nvince j kaminski wrote :\\n> bob ,\\n>\\n> can you come to our office on dec 29 at 9 : 00 a . m . ?\\n>\\n> please , call shirley crenshaw ( 3 - 5290 ) or stinson gibner ( 3 - 4748 )\\n> from the reception to be admitted to the building .\\n>\\n> vince kaminski', 0)\n",
      "('spend too much on your phone bill ? 25711', \"crystal clear connection with unlimited\\nlong distance usage for one low flat rate !\\nnow\\ntry it for free ! ! * see for\\nyourself .\\nwe ' ll activate\\nyour flat rate unlimited long distance service for 1 week free * to prove\\nthat the quality of service is what you\\nexpect .\\ncall now ! operators standing\\nby to activate your service .\\ntoll free : 877 - 529 - 7358 monday through friday 9 am to 9 pm\\nedt\\nfor more information :\\nyour\\nname :\\ncity :\\nstate :\\ndaytime\\nphone :\\nnighttime\\nphone :\\nemail :\\n* one week free\\noffer is valid to those who have a valid checking account . service is\\nnever billed until after the 1 week free trial\\nperiod .\\nif you have received this by error or wish to be\\nremoved from our mailing list , please click\\nhere\", 1)\n",
      "('re : rankings', 'thank you .', 0)\n",
      "('spend too much on your phone bill ? 25711', \"crystal clear connection with unlimited\\nlong distance usage for one low flat rate !\\nnow\\ntry it for free ! ! * see for\\nyourself .\\nwe ' ll activate\\nyour flat rate unlimited long distance service for 1 week free * to prove\\nthat the quality of service is what you\\nexpect .\\ncall now ! operators standing\\nby to activate your service .\\ntoll free : 877 - 529 - 7358 monday through friday 9 am to 9 pm\\nedt\\nfor more information :\\nyour\\nname :\\ncity :\\nstate :\\ndaytime\\nphone :\\nnighttime\\nphone :\\nemail :\\n* one week free\\noffer is valid to those who have a valid checking account . service is\\nnever billed until after the 1 week free trial\\nperiod .\\nif you have received this by error or wish to be\\nremoved from our mailing list , please click\\nhere\", 1)\n",
      "('christmas baskets', 'the christmas baskets have been ordered .\\nwe have ordered several baskets .\\nindividual earth - sat freeze - notis\\nsmith barney group baskets\\nrodney keys matt rodgers charlie\\nnotis jon davis move\\nteam\\nphillip randle chris hyde\\nharvey\\nfreese\\nfaclities\\niain russell darren\\nprager\\ntelephone services\\nmary\\nmartinez\\n( robert knights dept . )\\ntrina\\nwilliams\\ndaniel hornbuckle\\ntodd butler\\npamela ford\\nozarka -\\nmaryam golnaraghi\\nspecial baskets\\ngreg whalley\\nrichard weeks\\nany questions please contact kevin moore\\nother request contact kevin moore\\nprice information contact kevin moore\\nplease also if you need any assistance with your christmas cards let me know .\\nthanks kevin moore', 0)\n",
      "('discounted mortgage broker 512517', 'moates are at an all tyone with any crest and most competitive rates . simple takes under 1 minute .\\ntry now\\n512517', 1)\n"
     ]
    }
   ],
   "source": [
    "df_spam = df[df[\"Spam/Ham\"] == \"spam\"]\n",
    "df_ham = df[df[\"Spam/Ham\"] == \"ham\"]\n",
    "\n",
    "class HamSpam:\n",
    "    def __init__(self, df):\n",
    "        self.df = df.sort_values(\"Date\").fillna(\"\")\n",
    "        self.df = {\n",
    "            \"spam\": self.df[self.df[\"Spam/Ham\"] == \"spam\"],\n",
    "            \"ham\": self.df[self.df[\"Spam/Ham\"] == \"ham\"]\n",
    "        }\n",
    "        self.i = {\n",
    "            \"spam\": 0,\n",
    "            \"ham\": 0\n",
    "        }\n",
    "        self.curr = \"spam\"\n",
    "    \n",
    "    def __len__(self):\n",
    "        return len(self.df[\"spam\"]) + len(self.df[\"ham\"])\n",
    "    \n",
    "    def reset(self):\n",
    "        self.i = {\n",
    "            \"spam\": 0,\n",
    "            \"ham\": 0\n",
    "        }\n",
    "        self.curr = \"spam\"\n",
    "\n",
    "    def get_sample(self):\n",
    "        # alternate between ham and spam\n",
    "        self.curr = \"ham\" if self.curr == \"spam\" else \"spam\"\n",
    "        if self.i[self.curr] >= len(self.df[self.curr]):\n",
    "            return None\n",
    "        else:\n",
    "            self.i[self.curr] += 1\n",
    "            label = 1 if self.curr == \"spam\" else 0\n",
    "            subject = self.df[self.curr].iloc[self.i[self.curr] - 1][\"Subject\"]\n",
    "            text = self.df[self.curr].iloc[self.i[self.curr] - 1][\"Message\"]\n",
    "            return subject, text, label\n",
    "    \n",
    "ds = HamSpam(df)\n",
    "for i in range(10):\n",
    "    print(ds.get_sample())\n",
    "ds.reset()"
   ]
  },
  {
   "cell_type": "code",
   "execution_count": 99,
   "metadata": {},
   "outputs": [],
   "source": [
    "train_size = int(0.33 * len(ds))\n",
    "\n",
    "def encode_email(email):\n",
    "    subject, msg = email\n",
    "    return f\"{subject} {msg}\"\n",
    "\n",
    "subject_train, msg_train, y_train = zip(*[ ds.get_sample() for i in range(train_size) ])\n",
    "text_train = list(map(encode_email, zip(subject_train, msg_train)))\n"
   ]
  },
  {
   "cell_type": "code",
   "execution_count": 100,
   "metadata": {},
   "outputs": [],
   "source": [
    "from sklearn.feature_extraction.text import CountVectorizer\n",
    "\n",
    "vectorizer = CountVectorizer(stop_words=\"english\", max_features=10_000)\n",
    "X_train = vectorizer.fit_transform(text_train).toarray()\n",
    "\n",
    "df_train_1hot = pd.DataFrame(X_train >  0, columns=vectorizer.get_feature_names_out())"
   ]
  },
  {
   "cell_type": "code",
   "execution_count": 101,
   "metadata": {},
   "outputs": [],
   "source": [
    "from divexp import compute_matches\n",
    "\n",
    "matches_train = compute_matches(df_train_1hot, minsup=0.05)"
   ]
  },
  {
   "cell_type": "code",
   "execution_count": 102,
   "metadata": {},
   "outputs": [
    {
     "data": {
      "text/html": [
       "<style>#sk-container-id-3 {\n",
       "  /* Definition of color scheme common for light and dark mode */\n",
       "  --sklearn-color-text: black;\n",
       "  --sklearn-color-line: gray;\n",
       "  /* Definition of color scheme for unfitted estimators */\n",
       "  --sklearn-color-unfitted-level-0: #fff5e6;\n",
       "  --sklearn-color-unfitted-level-1: #f6e4d2;\n",
       "  --sklearn-color-unfitted-level-2: #ffe0b3;\n",
       "  --sklearn-color-unfitted-level-3: chocolate;\n",
       "  /* Definition of color scheme for fitted estimators */\n",
       "  --sklearn-color-fitted-level-0: #f0f8ff;\n",
       "  --sklearn-color-fitted-level-1: #d4ebff;\n",
       "  --sklearn-color-fitted-level-2: #b3dbfd;\n",
       "  --sklearn-color-fitted-level-3: cornflowerblue;\n",
       "\n",
       "  /* Specific color for light theme */\n",
       "  --sklearn-color-text-on-default-background: var(--sg-text-color, var(--theme-code-foreground, var(--jp-content-font-color1, black)));\n",
       "  --sklearn-color-background: var(--sg-background-color, var(--theme-background, var(--jp-layout-color0, white)));\n",
       "  --sklearn-color-border-box: var(--sg-text-color, var(--theme-code-foreground, var(--jp-content-font-color1, black)));\n",
       "  --sklearn-color-icon: #696969;\n",
       "\n",
       "  @media (prefers-color-scheme: dark) {\n",
       "    /* Redefinition of color scheme for dark theme */\n",
       "    --sklearn-color-text-on-default-background: var(--sg-text-color, var(--theme-code-foreground, var(--jp-content-font-color1, white)));\n",
       "    --sklearn-color-background: var(--sg-background-color, var(--theme-background, var(--jp-layout-color0, #111)));\n",
       "    --sklearn-color-border-box: var(--sg-text-color, var(--theme-code-foreground, var(--jp-content-font-color1, white)));\n",
       "    --sklearn-color-icon: #878787;\n",
       "  }\n",
       "}\n",
       "\n",
       "#sk-container-id-3 {\n",
       "  color: var(--sklearn-color-text);\n",
       "}\n",
       "\n",
       "#sk-container-id-3 pre {\n",
       "  padding: 0;\n",
       "}\n",
       "\n",
       "#sk-container-id-3 input.sk-hidden--visually {\n",
       "  border: 0;\n",
       "  clip: rect(1px 1px 1px 1px);\n",
       "  clip: rect(1px, 1px, 1px, 1px);\n",
       "  height: 1px;\n",
       "  margin: -1px;\n",
       "  overflow: hidden;\n",
       "  padding: 0;\n",
       "  position: absolute;\n",
       "  width: 1px;\n",
       "}\n",
       "\n",
       "#sk-container-id-3 div.sk-dashed-wrapped {\n",
       "  border: 1px dashed var(--sklearn-color-line);\n",
       "  margin: 0 0.4em 0.5em 0.4em;\n",
       "  box-sizing: border-box;\n",
       "  padding-bottom: 0.4em;\n",
       "  background-color: var(--sklearn-color-background);\n",
       "}\n",
       "\n",
       "#sk-container-id-3 div.sk-container {\n",
       "  /* jupyter's `normalize.less` sets `[hidden] { display: none; }`\n",
       "     but bootstrap.min.css set `[hidden] { display: none !important; }`\n",
       "     so we also need the `!important` here to be able to override the\n",
       "     default hidden behavior on the sphinx rendered scikit-learn.org.\n",
       "     See: https://github.com/scikit-learn/scikit-learn/issues/21755 */\n",
       "  display: inline-block !important;\n",
       "  position: relative;\n",
       "}\n",
       "\n",
       "#sk-container-id-3 div.sk-text-repr-fallback {\n",
       "  display: none;\n",
       "}\n",
       "\n",
       "div.sk-parallel-item,\n",
       "div.sk-serial,\n",
       "div.sk-item {\n",
       "  /* draw centered vertical line to link estimators */\n",
       "  background-image: linear-gradient(var(--sklearn-color-text-on-default-background), var(--sklearn-color-text-on-default-background));\n",
       "  background-size: 2px 100%;\n",
       "  background-repeat: no-repeat;\n",
       "  background-position: center center;\n",
       "}\n",
       "\n",
       "/* Parallel-specific style estimator block */\n",
       "\n",
       "#sk-container-id-3 div.sk-parallel-item::after {\n",
       "  content: \"\";\n",
       "  width: 100%;\n",
       "  border-bottom: 2px solid var(--sklearn-color-text-on-default-background);\n",
       "  flex-grow: 1;\n",
       "}\n",
       "\n",
       "#sk-container-id-3 div.sk-parallel {\n",
       "  display: flex;\n",
       "  align-items: stretch;\n",
       "  justify-content: center;\n",
       "  background-color: var(--sklearn-color-background);\n",
       "  position: relative;\n",
       "}\n",
       "\n",
       "#sk-container-id-3 div.sk-parallel-item {\n",
       "  display: flex;\n",
       "  flex-direction: column;\n",
       "}\n",
       "\n",
       "#sk-container-id-3 div.sk-parallel-item:first-child::after {\n",
       "  align-self: flex-end;\n",
       "  width: 50%;\n",
       "}\n",
       "\n",
       "#sk-container-id-3 div.sk-parallel-item:last-child::after {\n",
       "  align-self: flex-start;\n",
       "  width: 50%;\n",
       "}\n",
       "\n",
       "#sk-container-id-3 div.sk-parallel-item:only-child::after {\n",
       "  width: 0;\n",
       "}\n",
       "\n",
       "/* Serial-specific style estimator block */\n",
       "\n",
       "#sk-container-id-3 div.sk-serial {\n",
       "  display: flex;\n",
       "  flex-direction: column;\n",
       "  align-items: center;\n",
       "  background-color: var(--sklearn-color-background);\n",
       "  padding-right: 1em;\n",
       "  padding-left: 1em;\n",
       "}\n",
       "\n",
       "\n",
       "/* Toggleable style: style used for estimator/Pipeline/ColumnTransformer box that is\n",
       "clickable and can be expanded/collapsed.\n",
       "- Pipeline and ColumnTransformer use this feature and define the default style\n",
       "- Estimators will overwrite some part of the style using the `sk-estimator` class\n",
       "*/\n",
       "\n",
       "/* Pipeline and ColumnTransformer style (default) */\n",
       "\n",
       "#sk-container-id-3 div.sk-toggleable {\n",
       "  /* Default theme specific background. It is overwritten whether we have a\n",
       "  specific estimator or a Pipeline/ColumnTransformer */\n",
       "  background-color: var(--sklearn-color-background);\n",
       "}\n",
       "\n",
       "/* Toggleable label */\n",
       "#sk-container-id-3 label.sk-toggleable__label {\n",
       "  cursor: pointer;\n",
       "  display: block;\n",
       "  width: 100%;\n",
       "  margin-bottom: 0;\n",
       "  padding: 0.5em;\n",
       "  box-sizing: border-box;\n",
       "  text-align: center;\n",
       "}\n",
       "\n",
       "#sk-container-id-3 label.sk-toggleable__label-arrow:before {\n",
       "  /* Arrow on the left of the label */\n",
       "  content: \"▸\";\n",
       "  float: left;\n",
       "  margin-right: 0.25em;\n",
       "  color: var(--sklearn-color-icon);\n",
       "}\n",
       "\n",
       "#sk-container-id-3 label.sk-toggleable__label-arrow:hover:before {\n",
       "  color: var(--sklearn-color-text);\n",
       "}\n",
       "\n",
       "/* Toggleable content - dropdown */\n",
       "\n",
       "#sk-container-id-3 div.sk-toggleable__content {\n",
       "  max-height: 0;\n",
       "  max-width: 0;\n",
       "  overflow: hidden;\n",
       "  text-align: left;\n",
       "  /* unfitted */\n",
       "  background-color: var(--sklearn-color-unfitted-level-0);\n",
       "}\n",
       "\n",
       "#sk-container-id-3 div.sk-toggleable__content.fitted {\n",
       "  /* fitted */\n",
       "  background-color: var(--sklearn-color-fitted-level-0);\n",
       "}\n",
       "\n",
       "#sk-container-id-3 div.sk-toggleable__content pre {\n",
       "  margin: 0.2em;\n",
       "  border-radius: 0.25em;\n",
       "  color: var(--sklearn-color-text);\n",
       "  /* unfitted */\n",
       "  background-color: var(--sklearn-color-unfitted-level-0);\n",
       "}\n",
       "\n",
       "#sk-container-id-3 div.sk-toggleable__content.fitted pre {\n",
       "  /* unfitted */\n",
       "  background-color: var(--sklearn-color-fitted-level-0);\n",
       "}\n",
       "\n",
       "#sk-container-id-3 input.sk-toggleable__control:checked~div.sk-toggleable__content {\n",
       "  /* Expand drop-down */\n",
       "  max-height: 200px;\n",
       "  max-width: 100%;\n",
       "  overflow: auto;\n",
       "}\n",
       "\n",
       "#sk-container-id-3 input.sk-toggleable__control:checked~label.sk-toggleable__label-arrow:before {\n",
       "  content: \"▾\";\n",
       "}\n",
       "\n",
       "/* Pipeline/ColumnTransformer-specific style */\n",
       "\n",
       "#sk-container-id-3 div.sk-label input.sk-toggleable__control:checked~label.sk-toggleable__label {\n",
       "  color: var(--sklearn-color-text);\n",
       "  background-color: var(--sklearn-color-unfitted-level-2);\n",
       "}\n",
       "\n",
       "#sk-container-id-3 div.sk-label.fitted input.sk-toggleable__control:checked~label.sk-toggleable__label {\n",
       "  background-color: var(--sklearn-color-fitted-level-2);\n",
       "}\n",
       "\n",
       "/* Estimator-specific style */\n",
       "\n",
       "/* Colorize estimator box */\n",
       "#sk-container-id-3 div.sk-estimator input.sk-toggleable__control:checked~label.sk-toggleable__label {\n",
       "  /* unfitted */\n",
       "  background-color: var(--sklearn-color-unfitted-level-2);\n",
       "}\n",
       "\n",
       "#sk-container-id-3 div.sk-estimator.fitted input.sk-toggleable__control:checked~label.sk-toggleable__label {\n",
       "  /* fitted */\n",
       "  background-color: var(--sklearn-color-fitted-level-2);\n",
       "}\n",
       "\n",
       "#sk-container-id-3 div.sk-label label.sk-toggleable__label,\n",
       "#sk-container-id-3 div.sk-label label {\n",
       "  /* The background is the default theme color */\n",
       "  color: var(--sklearn-color-text-on-default-background);\n",
       "}\n",
       "\n",
       "/* On hover, darken the color of the background */\n",
       "#sk-container-id-3 div.sk-label:hover label.sk-toggleable__label {\n",
       "  color: var(--sklearn-color-text);\n",
       "  background-color: var(--sklearn-color-unfitted-level-2);\n",
       "}\n",
       "\n",
       "/* Label box, darken color on hover, fitted */\n",
       "#sk-container-id-3 div.sk-label.fitted:hover label.sk-toggleable__label.fitted {\n",
       "  color: var(--sklearn-color-text);\n",
       "  background-color: var(--sklearn-color-fitted-level-2);\n",
       "}\n",
       "\n",
       "/* Estimator label */\n",
       "\n",
       "#sk-container-id-3 div.sk-label label {\n",
       "  font-family: monospace;\n",
       "  font-weight: bold;\n",
       "  display: inline-block;\n",
       "  line-height: 1.2em;\n",
       "}\n",
       "\n",
       "#sk-container-id-3 div.sk-label-container {\n",
       "  text-align: center;\n",
       "}\n",
       "\n",
       "/* Estimator-specific */\n",
       "#sk-container-id-3 div.sk-estimator {\n",
       "  font-family: monospace;\n",
       "  border: 1px dotted var(--sklearn-color-border-box);\n",
       "  border-radius: 0.25em;\n",
       "  box-sizing: border-box;\n",
       "  margin-bottom: 0.5em;\n",
       "  /* unfitted */\n",
       "  background-color: var(--sklearn-color-unfitted-level-0);\n",
       "}\n",
       "\n",
       "#sk-container-id-3 div.sk-estimator.fitted {\n",
       "  /* fitted */\n",
       "  background-color: var(--sklearn-color-fitted-level-0);\n",
       "}\n",
       "\n",
       "/* on hover */\n",
       "#sk-container-id-3 div.sk-estimator:hover {\n",
       "  /* unfitted */\n",
       "  background-color: var(--sklearn-color-unfitted-level-2);\n",
       "}\n",
       "\n",
       "#sk-container-id-3 div.sk-estimator.fitted:hover {\n",
       "  /* fitted */\n",
       "  background-color: var(--sklearn-color-fitted-level-2);\n",
       "}\n",
       "\n",
       "/* Specification for estimator info (e.g. \"i\" and \"?\") */\n",
       "\n",
       "/* Common style for \"i\" and \"?\" */\n",
       "\n",
       ".sk-estimator-doc-link,\n",
       "a:link.sk-estimator-doc-link,\n",
       "a:visited.sk-estimator-doc-link {\n",
       "  float: right;\n",
       "  font-size: smaller;\n",
       "  line-height: 1em;\n",
       "  font-family: monospace;\n",
       "  background-color: var(--sklearn-color-background);\n",
       "  border-radius: 1em;\n",
       "  height: 1em;\n",
       "  width: 1em;\n",
       "  text-decoration: none !important;\n",
       "  margin-left: 1ex;\n",
       "  /* unfitted */\n",
       "  border: var(--sklearn-color-unfitted-level-1) 1pt solid;\n",
       "  color: var(--sklearn-color-unfitted-level-1);\n",
       "}\n",
       "\n",
       ".sk-estimator-doc-link.fitted,\n",
       "a:link.sk-estimator-doc-link.fitted,\n",
       "a:visited.sk-estimator-doc-link.fitted {\n",
       "  /* fitted */\n",
       "  border: var(--sklearn-color-fitted-level-1) 1pt solid;\n",
       "  color: var(--sklearn-color-fitted-level-1);\n",
       "}\n",
       "\n",
       "/* On hover */\n",
       "div.sk-estimator:hover .sk-estimator-doc-link:hover,\n",
       ".sk-estimator-doc-link:hover,\n",
       "div.sk-label-container:hover .sk-estimator-doc-link:hover,\n",
       ".sk-estimator-doc-link:hover {\n",
       "  /* unfitted */\n",
       "  background-color: var(--sklearn-color-unfitted-level-3);\n",
       "  color: var(--sklearn-color-background);\n",
       "  text-decoration: none;\n",
       "}\n",
       "\n",
       "div.sk-estimator.fitted:hover .sk-estimator-doc-link.fitted:hover,\n",
       ".sk-estimator-doc-link.fitted:hover,\n",
       "div.sk-label-container:hover .sk-estimator-doc-link.fitted:hover,\n",
       ".sk-estimator-doc-link.fitted:hover {\n",
       "  /* fitted */\n",
       "  background-color: var(--sklearn-color-fitted-level-3);\n",
       "  color: var(--sklearn-color-background);\n",
       "  text-decoration: none;\n",
       "}\n",
       "\n",
       "/* Span, style for the box shown on hovering the info icon */\n",
       ".sk-estimator-doc-link span {\n",
       "  display: none;\n",
       "  z-index: 9999;\n",
       "  position: relative;\n",
       "  font-weight: normal;\n",
       "  right: .2ex;\n",
       "  padding: .5ex;\n",
       "  margin: .5ex;\n",
       "  width: min-content;\n",
       "  min-width: 20ex;\n",
       "  max-width: 50ex;\n",
       "  color: var(--sklearn-color-text);\n",
       "  box-shadow: 2pt 2pt 4pt #999;\n",
       "  /* unfitted */\n",
       "  background: var(--sklearn-color-unfitted-level-0);\n",
       "  border: .5pt solid var(--sklearn-color-unfitted-level-3);\n",
       "}\n",
       "\n",
       ".sk-estimator-doc-link.fitted span {\n",
       "  /* fitted */\n",
       "  background: var(--sklearn-color-fitted-level-0);\n",
       "  border: var(--sklearn-color-fitted-level-3);\n",
       "}\n",
       "\n",
       ".sk-estimator-doc-link:hover span {\n",
       "  display: block;\n",
       "}\n",
       "\n",
       "/* \"?\"-specific style due to the `<a>` HTML tag */\n",
       "\n",
       "#sk-container-id-3 a.estimator_doc_link {\n",
       "  float: right;\n",
       "  font-size: 1rem;\n",
       "  line-height: 1em;\n",
       "  font-family: monospace;\n",
       "  background-color: var(--sklearn-color-background);\n",
       "  border-radius: 1rem;\n",
       "  height: 1rem;\n",
       "  width: 1rem;\n",
       "  text-decoration: none;\n",
       "  /* unfitted */\n",
       "  color: var(--sklearn-color-unfitted-level-1);\n",
       "  border: var(--sklearn-color-unfitted-level-1) 1pt solid;\n",
       "}\n",
       "\n",
       "#sk-container-id-3 a.estimator_doc_link.fitted {\n",
       "  /* fitted */\n",
       "  border: var(--sklearn-color-fitted-level-1) 1pt solid;\n",
       "  color: var(--sklearn-color-fitted-level-1);\n",
       "}\n",
       "\n",
       "/* On hover */\n",
       "#sk-container-id-3 a.estimator_doc_link:hover {\n",
       "  /* unfitted */\n",
       "  background-color: var(--sklearn-color-unfitted-level-3);\n",
       "  color: var(--sklearn-color-background);\n",
       "  text-decoration: none;\n",
       "}\n",
       "\n",
       "#sk-container-id-3 a.estimator_doc_link.fitted:hover {\n",
       "  /* fitted */\n",
       "  background-color: var(--sklearn-color-fitted-level-3);\n",
       "}\n",
       "</style><div id=\"sk-container-id-3\" class=\"sk-top-container\"><div class=\"sk-text-repr-fallback\"><pre>RandomForestClassifier(max_depth=5, n_jobs=-1)</pre><b>In a Jupyter environment, please rerun this cell to show the HTML representation or trust the notebook. <br />On GitHub, the HTML representation is unable to render, please try loading this page with nbviewer.org.</b></div><div class=\"sk-container\" hidden><div class=\"sk-item\"><div class=\"sk-estimator fitted sk-toggleable\"><input class=\"sk-toggleable__control sk-hidden--visually\" id=\"sk-estimator-id-3\" type=\"checkbox\" checked><label for=\"sk-estimator-id-3\" class=\"sk-toggleable__label fitted sk-toggleable__label-arrow fitted\">&nbsp;&nbsp;RandomForestClassifier<a class=\"sk-estimator-doc-link fitted\" rel=\"noreferrer\" target=\"_blank\" href=\"https://scikit-learn.org/1.5/modules/generated/sklearn.ensemble.RandomForestClassifier.html\">?<span>Documentation for RandomForestClassifier</span></a><span class=\"sk-estimator-doc-link fitted\">i<span>Fitted</span></span></label><div class=\"sk-toggleable__content fitted\"><pre>RandomForestClassifier(max_depth=5, n_jobs=-1)</pre></div> </div></div></div></div>"
      ],
      "text/plain": [
       "RandomForestClassifier(max_depth=5, n_jobs=-1)"
      ]
     },
     "execution_count": 102,
     "metadata": {},
     "output_type": "execute_result"
    }
   ],
   "source": [
    "from sklearn.ensemble import RandomForestClassifier\n",
    "\n",
    "clf = RandomForestClassifier(n_estimators=100, n_jobs=-1, max_depth=5)\n",
    "clf.fit(X_train, y_train)"
   ]
  },
  {
   "cell_type": "code",
   "execution_count": 103,
   "metadata": {},
   "outputs": [],
   "source": [
    "batch_size = 512\n",
    "\n",
    "text_test = []\n",
    "y_test = []\n",
    "\n",
    "while True:\n",
    "    out = ds.get_sample()\n",
    "    if out is None:\n",
    "        break\n",
    "    subject, msg, label = out\n",
    "\n",
    "    text_test.append(encode_email((subject, msg)))\n",
    "    y_test.append(label)"
   ]
  },
  {
   "cell_type": "code",
   "execution_count": 106,
   "metadata": {},
   "outputs": [],
   "source": [
    "from divexp import div_explorer, Matches"
   ]
  },
  {
   "cell_type": "code",
   "execution_count": 107,
   "metadata": {},
   "outputs": [
    {
     "name": "stdout",
     "output_type": "stream",
     "text": [
      "0\n",
      "512\n",
      "1024\n",
      "1536\n",
      "2048\n",
      "2560\n",
      "3072\n",
      "3584\n",
      "4096\n",
      "4608\n",
      "5120\n",
      "5632\n",
      "6144\n",
      "6656\n",
      "7168\n",
      "7680\n",
      "8192\n",
      "8704\n",
      "9216\n",
      "9728\n",
      "10240\n",
      "10752\n",
      "11264\n",
      "11776\n",
      "12288\n",
      "12800\n",
      "13312\n",
      "13824\n",
      "14336\n",
      "14848\n",
      "15360\n",
      "15872\n",
      "16384\n",
      "16896\n",
      "17408\n",
      "17920\n",
      "18432\n",
      "18944\n",
      "19456\n",
      "19968\n",
      "20480\n",
      "20992\n",
      "21504\n"
     ]
    }
   ],
   "source": [
    "from sklearn.metrics import accuracy_score, f1_score\n",
    "\n",
    "matches_test = []\n",
    "acc = []\n",
    "f1 = []\n",
    "divs = []\n",
    "\n",
    "for i in range(0, len(text_test), batch_size):\n",
    "    print(i)\n",
    "    X_test_batch = vectorizer.transform(text_test[i:i+batch_size]).toarray()\n",
    "    df_test_1hot = pd.DataFrame(X_test_batch > 0, columns=vectorizer.get_feature_names_out())\n",
    "    \n",
    "    m = compute_matches(df_test_1hot, fi=matches_train.fi)\n",
    "    m = Matches(matches=m.matches.astype(int), fi=m.fi)\n",
    "    matches_test.append(m)\n",
    "\n",
    "    y_test_batch = y_test[i:i+batch_size]\n",
    "    y_pred_batch = clf.predict(X_test_batch)\n",
    "\n",
    "    acc.append(accuracy_score(y_test_batch, y_pred_batch))\n",
    "    f1.append(f1_score(y_test_batch, y_pred_batch))\n",
    "\n",
    "    divs.append(div_explorer(m, y_test_batch, y_pred_batch, []))"
   ]
  },
  {
   "cell_type": "code",
   "execution_count": 109,
   "metadata": {},
   "outputs": [
    {
     "data": {
      "text/plain": [
       "[<matplotlib.lines.Line2D at 0x77d1904b8f10>]"
      ]
     },
     "execution_count": 109,
     "metadata": {},
     "output_type": "execute_result"
    },
    {
     "data": {
      "image/png": "[encoded data removed]",
      "text/plain": [
       "<Figure size 640x480 with 1 Axes>"
      ]
     },
     "metadata": {},
     "output_type": "display_data"
    }
   ],
   "source": [
    "import matplotlib.pyplot as plt\n",
    "\n",
    "plt.plot(acc)\n",
    "plt.plot(f1)"
   ]
  },
  {
   "cell_type": "code",
   "execution_count": 117,
   "metadata": {},
   "outputs": [
    {
     "data": {
      "text/plain": [
       "0.6572742955721679"
      ]
     },
     "execution_count": 117,
     "metadata": {},
     "output_type": "execute_result"
    }
   ],
   "source": [
    "(divs[-1][[\"tp\", \"fp\", \"fn\", \"tn\"]].sum(axis=1) == 0).mean()"
   ]
  },
  {
   "cell_type": "code",
   "execution_count": 122,
   "metadata": {},
   "outputs": [
    {
     "data": {
      "text/plain": [
       "[<matplotlib.lines.Line2D at 0x77d10c160f10>]"
      ]
     },
     "execution_count": 122,
     "metadata": {},
     "output_type": "execute_result"
    },
    {
     "data": {
      "image/png": "[encoded data removed]",
      "text/plain": [
       "<Figure size 640x480 with 1 Axes>"
      ]
     },
     "metadata": {},
     "output_type": "display_data"
    }
   ],
   "source": [
    "plt.plot([ (divs[i][[\"tp\", \"fp\", \"fn\", \"tn\"]].sum(axis=1) == 0).mean() for i in range(len(divs)) ])"
   ]
  },
  {
   "cell_type": "code",
   "execution_count": 150,
   "metadata": {},
   "outputs": [],
   "source": [
    "import numpy as np\n",
    "\n",
    "mask_all = (np.vstack([ (divs[i][[\"tp\", \"fp\", \"fn\", \"tn\"]].sum(axis=1) == 0).values for i in range(len(divs)) ]).sum(axis=0) == 0)"
   ]
  },
  {
   "cell_type": "code",
   "execution_count": 151,
   "metadata": {},
   "outputs": [],
   "source": [
    "new_divs = [ d[mask_all].copy() for d in divs ]"
   ]
  },
  {
   "cell_type": "code",
   "execution_count": 152,
   "metadata": {},
   "outputs": [],
   "source": [
    "from detect import detect_singlebatch"
   ]
  },
  {
   "cell_type": "code",
   "execution_count": 167,
   "metadata": {},
   "outputs": [],
   "source": [
    "win_size = 10\n",
    "delta, tstat = detect_singlebatch(new_divs, \"accuracy\", (0, win_size), (len(new_divs) - win_size, win_size))"
   ]
  },
  {
   "cell_type": "code",
   "execution_count": 198,
   "metadata": {},
   "outputs": [
    {
     "data": {
      "text/plain": [
       "191    44.363155\n",
       "27     34.910954\n",
       "170    29.764943\n",
       "107    22.336934\n",
       "149    20.542385\n",
       "         ...    \n",
       "654     0.000000\n",
       "652     0.000000\n",
       "648     0.000000\n",
       "644     0.000000\n",
       "700     0.000000\n",
       "Length: 443, dtype: float64"
      ]
     },
     "execution_count": 198,
     "metadata": {},
     "output_type": "execute_result"
    }
   ],
   "source": [
    "tstat.sort_values(ascending=False)"
   ]
  },
  {
   "cell_type": "code",
   "execution_count": 199,
   "metadata": {},
   "outputs": [
    {
     "data": {
      "text/plain": [
       "Index([ 191,   27,  170,  107,  149,   63,  181,  177,   75,   54,\n",
       "       ...\n",
       "       1464, 1465, 1466,  662,  660,  654,  652,  648,  644,  700],\n",
       "      dtype='int64', length=443)"
      ]
     },
     "execution_count": 199,
     "metadata": {},
     "output_type": "execute_result"
    }
   ],
   "source": [
    "tstat.sort_values(ascending=False).index"
   ]
  },
  {
   "cell_type": "code",
   "execution_count": 206,
   "metadata": {},
   "outputs": [
    {
     "data": {
      "text/plain": [
       "Index([ 191,   27,  170,  107,  149,   63,  181,  177,   75,   54,\n",
       "       ...\n",
       "       1464, 1465, 1466,  662,  660,  654,  652,  648,  644,  700],\n",
       "      dtype='int64', length=443)"
      ]
     },
     "execution_count": 206,
     "metadata": {},
     "output_type": "execute_result"
    }
   ],
   "source": [
    "tstat.sort_values(ascending=False).index"
   ]
  },
  {
   "cell_type": "code",
   "execution_count": 207,
   "metadata": {},
   "outputs": [
    {
     "data": {
      "text/plain": [
       "191                        (18)\n",
       "27                       (4128)\n",
       "170                      (8689)\n",
       "107                        (10)\n",
       "149                      (2922)\n",
       "                 ...           \n",
       "654    (3713, 2018, 9091, 8809)\n",
       "652          (3713, 2018, 9091)\n",
       "648          (3713, 2018, 8809)\n",
       "644                (3713, 2018)\n",
       "700            (2018, 9091, 44)\n",
       "Name: itemsets, Length: 443, dtype: object"
      ]
     },
     "execution_count": 207,
     "metadata": {},
     "output_type": "execute_result"
    }
   ],
   "source": [
    "matches_train.fi.loc[tstat.sort_values(ascending=False).index].itemsets"
   ]
  },
  {
   "cell_type": "code",
   "execution_count": 219,
   "metadata": {},
   "outputs": [],
   "source": [
    "def map_to_names(x):\n",
    "    return vectorizer.get_feature_names_out()[list(x)]\n",
    "subgroups = matches_train.fi.loc[tstat.sort_values(ascending=False).index].itemsets.map(map_to_names)"
   ]
  },
  {
   "cell_type": "code",
   "execution_count": 220,
   "metadata": {},
   "outputs": [
    {
     "data": {
      "text/plain": [
       "191                [02]\n",
       "27               [file]\n",
       "170             [start]\n",
       "107                [01]\n",
       "149              [date]\n",
       "63                 [12]\n",
       "181          [required]\n",
       "177           [details]\n",
       "75                 [24]\n",
       "54            [subject]\n",
       "143                [21]\n",
       "66                 [20]\n",
       "1606    [subject, sent]\n",
       "138                [15]\n",
       "96               [sent]\n",
       "87                 [13]\n",
       "77                 [14]\n",
       "133                [17]\n",
       "190            [energy]\n",
       "70             [number]\n",
       "Name: itemsets, dtype: object"
      ]
     },
     "execution_count": 220,
     "metadata": {},
     "output_type": "execute_result"
    }
   ],
   "source": [
    "subgroups.head(20)"
   ]
  },
  {
   "cell_type": "code",
   "execution_count": 221,
   "metadata": {},
   "outputs": [
    {
     "data": {
      "text/plain": [
       "1338                        [cc, corp]\n",
       "526                      [let, cc, pm]\n",
       "681                           [cc, 10]\n",
       "1348               [subject, cc, corp]\n",
       "1349                 [enron, cc, corp]\n",
       "676                  [time, cc, enron]\n",
       "520       [enron, cc, subject, 10, pm]\n",
       "530                [know, let, cc, pm]\n",
       "1458                    [cc, corp, pm]\n",
       "531       [let, cc, subject, know, pm]\n",
       "1464           [subject, cc, corp, pm]\n",
       "1465             [enron, cc, corp, pm]\n",
       "1466    [enron, cc, subject, corp, pm]\n",
       "662          [com, enron, cc, subject]\n",
       "660                   [com, enron, cc]\n",
       "654       [enron, cc, thanks, subject]\n",
       "652                [enron, cc, thanks]\n",
       "648               [enron, cc, subject]\n",
       "644                        [enron, cc]\n",
       "700                   [cc, thanks, 10]\n",
       "Name: itemsets, dtype: object"
      ]
     },
     "execution_count": 221,
     "metadata": {},
     "output_type": "execute_result"
    }
   ],
   "source": [
    "subgroups.tail(20)"
   ]
  },
  {
   "cell_type": "code",
   "execution_count": 222,
   "metadata": {},
   "outputs": [],
   "source": [
    "for d in new_divs:\n",
    "    d[\"accuracy\"] = (d[\"tp\"] + d[\"tn\"]) / (d[\"tp\"] + d[\"tn\"] + d[\"fp\"] + d[\"fn\"])"
   ]
  },
  {
   "cell_type": "code",
   "execution_count": 225,
   "metadata": {},
   "outputs": [
    {
     "data": {
      "text/plain": [
       "<matplotlib.patches.Polygon at 0x77cfe6ec66e0>"
      ]
     },
     "execution_count": 225,
     "metadata": {},
     "output_type": "execute_result"
    },
    {
     "data": {
      "image/png": "[encoded data removed]",
      "text/plain": [
       "<Figure size 640x480 with 1 Axes>"
      ]
     },
     "metadata": {},
     "output_type": "display_data"
    }
   ],
   "source": [
    "sg = 54\n",
    "\n",
    "plt.plot([ d.loc[sg][\"accuracy\"] for d in new_divs ])\n",
    "plt.axvspan(0, 0 + win_size, color=\"green\", alpha=0.5)\n",
    "plt.axvspan(len(new_divs) - win_size, len(new_divs), color=\"red\", alpha=0.5)"
   ]
  },
  {
   "cell_type": "code",
   "execution_count": null,
   "metadata": {},
   "outputs": [],
   "source": []
  }
 ],
 "metadata": {
  "kernelspec": {
   "display_name": "Python 3",
   "language": "python",
   "name": "python3"
  },
  "language_info": {
   "codemirror_mode": {
    "name": "ipython",
    "version": 3
   },
   "file_extension": ".py",
   "mimetype": "text/x-python",
   "name": "python",
   "nbconvert_exporter": "python",
   "pygments_lexer": "ipython3",
   "version": "3.10.12"
  }
 },
 "nbformat": 4,
 "nbformat_minor": 2
}
