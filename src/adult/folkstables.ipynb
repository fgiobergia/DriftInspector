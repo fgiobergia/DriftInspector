{
 "cells": [
  {
   "cell_type": "code",
   "execution_count": 1,
   "metadata": {},
   "outputs": [],
   "source": [
    "%load_ext autoreload\n",
    "%autoreload 2"
   ]
  },
  {
   "cell_type": "code",
   "execution_count": 2,
   "metadata": {},
   "outputs": [],
   "source": [
    "import numpy as np\n",
    "import random\n",
    "import xgboost as xgb\n",
    "import pandas as pd\n",
    "import os\n",
    "import pickle\n",
    "\n",
    "random.seed(42)\n",
    "np.random.seed(42)\n"
   ]
  },
  {
   "cell_type": "code",
   "execution_count": 3,
   "metadata": {},
   "outputs": [],
   "source": [
    "from folktables import ACSDataSource, ACSIncome\n",
    "\n",
    "data_source = []\n",
    "features_years, label_years, group_years = [], [], []\n",
    "for year in ['2017', '2018']:\n",
    "    data_source = ACSDataSource(survey_year=year, horizon='1-Year', survey='person')\n",
    "    acs_data = data_source.get_data(states=[\"CA\"], download=True)\n",
    "    features_i, label_i, group_i = ACSIncome.df_to_numpy(acs_data)\n",
    "    features_years.append(features_i)\n",
    "    label_years.append(label_i)\n",
    "    group_years.append(group_i)\n",
    "\n",
    "features = np.concatenate(features_years)\n",
    "label = np.concatenate(label_years)\n",
    "group = np.concatenate(group_years)"
   ]
  },
  {
   "cell_type": "code",
   "execution_count": 4,
   "metadata": {},
   "outputs": [
    {
     "data": {
      "text/plain": [
       "['AGEP', 'COW', 'SCHL', 'MAR', 'OCCP', 'POBP', 'RELP', 'WKHP', 'SEX', 'RAC1P']"
      ]
     },
     "execution_count": 4,
     "metadata": {},
     "output_type": "execute_result"
    }
   ],
   "source": [
    "ACSIncome.features"
   ]
  },
  {
   "cell_type": "code",
   "execution_count": 5,
   "metadata": {},
   "outputs": [
    {
     "data": {
      "text/plain": [
       "'PINCP'"
      ]
     },
     "execution_count": 5,
     "metadata": {},
     "output_type": "execute_result"
    }
   ],
   "source": [
    "ACSIncome.target"
   ]
  },
  {
   "cell_type": "code",
   "execution_count": 14,
   "metadata": {},
   "outputs": [
    {
     "data": {
      "text/plain": [
       "((192929, 10), (195665, 10))"
      ]
     },
     "execution_count": 14,
     "metadata": {},
     "output_type": "execute_result"
    }
   ],
   "source": [
    "p = 1\n",
    "train_size = int(p*features_years[0].shape[0])\n",
    "features_train, labels_train = features[:train_size], label[:train_size]\n",
    "features_test, labels_test = features[train_size:], label[train_size:]\n",
    "\n",
    "features_train.shape, features_test.shape"
   ]
  },
  {
   "cell_type": "code",
   "execution_count": 18,
   "metadata": {},
   "outputs": [],
   "source": [
    "df_train_unproc = pd.DataFrame(features_train, columns=ACSIncome.features)\n",
    "df_test_unproc = pd.DataFrame(features_test, columns=ACSIncome.features)"
   ]
  },
  {
   "cell_type": "code",
   "execution_count": 19,
   "metadata": {},
   "outputs": [],
   "source": [
    "from sklearn.preprocessing import StandardScaler, OneHotEncoder\n",
    "from sklearn.compose import ColumnTransformer\n",
    "\n",
    "num = ['AGEP',  'WKHP']\n",
    "categ = [ 'COW', 'SCHL', 'MAR', 'OCCP', 'POBP', 'RELP', 'SEX', 'RAC1P']\n",
    "\n",
    "preprocessor = ColumnTransformer(\n",
    "    transformers=[\n",
    "        ('num', StandardScaler(), num),\n",
    "        ('cat', OneHotEncoder(handle_unknown='ignore'), categ)])"
   ]
  },
  {
   "cell_type": "code",
   "execution_count": 20,
   "metadata": {},
   "outputs": [],
   "source": [
    "df_train_prep = preprocessor.fit_transform(df_train_unproc)"
   ]
  },
  {
   "cell_type": "code",
   "execution_count": 22,
   "metadata": {},
   "outputs": [
    {
     "data": {
      "text/html": [
       "<style>#sk-container-id-1 {color: black;background-color: white;}#sk-container-id-1 pre{padding: 0;}#sk-container-id-1 div.sk-toggleable {background-color: white;}#sk-container-id-1 label.sk-toggleable__label {cursor: pointer;display: block;width: 100%;margin-bottom: 0;padding: 0.3em;box-sizing: border-box;text-align: center;}#sk-container-id-1 label.sk-toggleable__label-arrow:before {content: \"▸\";float: left;margin-right: 0.25em;color: #696969;}#sk-container-id-1 label.sk-toggleable__label-arrow:hover:before {color: black;}#sk-container-id-1 div.sk-estimator:hover label.sk-toggleable__label-arrow:before {color: black;}#sk-container-id-1 div.sk-toggleable__content {max-height: 0;max-width: 0;overflow: hidden;text-align: left;background-color: #f0f8ff;}#sk-container-id-1 div.sk-toggleable__content pre {margin: 0.2em;color: black;border-radius: 0.25em;background-color: #f0f8ff;}#sk-container-id-1 input.sk-toggleable__control:checked~div.sk-toggleable__content {max-height: 200px;max-width: 100%;overflow: auto;}#sk-container-id-1 input.sk-toggleable__control:checked~label.sk-toggleable__label-arrow:before {content: \"▾\";}#sk-container-id-1 div.sk-estimator input.sk-toggleable__control:checked~label.sk-toggleable__label {background-color: #d4ebff;}#sk-container-id-1 div.sk-label input.sk-toggleable__control:checked~label.sk-toggleable__label {background-color: #d4ebff;}#sk-container-id-1 input.sk-hidden--visually {border: 0;clip: rect(1px 1px 1px 1px);clip: rect(1px, 1px, 1px, 1px);height: 1px;margin: -1px;overflow: hidden;padding: 0;position: absolute;width: 1px;}#sk-container-id-1 div.sk-estimator {font-family: monospace;background-color: #f0f8ff;border: 1px dotted black;border-radius: 0.25em;box-sizing: border-box;margin-bottom: 0.5em;}#sk-container-id-1 div.sk-estimator:hover {background-color: #d4ebff;}#sk-container-id-1 div.sk-parallel-item::after {content: \"\";width: 100%;border-bottom: 1px solid gray;flex-grow: 1;}#sk-container-id-1 div.sk-label:hover label.sk-toggleable__label {background-color: #d4ebff;}#sk-container-id-1 div.sk-serial::before {content: \"\";position: absolute;border-left: 1px solid gray;box-sizing: border-box;top: 0;bottom: 0;left: 50%;z-index: 0;}#sk-container-id-1 div.sk-serial {display: flex;flex-direction: column;align-items: center;background-color: white;padding-right: 0.2em;padding-left: 0.2em;position: relative;}#sk-container-id-1 div.sk-item {position: relative;z-index: 1;}#sk-container-id-1 div.sk-parallel {display: flex;align-items: stretch;justify-content: center;background-color: white;position: relative;}#sk-container-id-1 div.sk-item::before, #sk-container-id-1 div.sk-parallel-item::before {content: \"\";position: absolute;border-left: 1px solid gray;box-sizing: border-box;top: 0;bottom: 0;left: 50%;z-index: -1;}#sk-container-id-1 div.sk-parallel-item {display: flex;flex-direction: column;z-index: 1;position: relative;background-color: white;}#sk-container-id-1 div.sk-parallel-item:first-child::after {align-self: flex-end;width: 50%;}#sk-container-id-1 div.sk-parallel-item:last-child::after {align-self: flex-start;width: 50%;}#sk-container-id-1 div.sk-parallel-item:only-child::after {width: 0;}#sk-container-id-1 div.sk-dashed-wrapped {border: 1px dashed gray;margin: 0 0.4em 0.5em 0.4em;box-sizing: border-box;padding-bottom: 0.4em;background-color: white;}#sk-container-id-1 div.sk-label label {font-family: monospace;font-weight: bold;display: inline-block;line-height: 1.2em;}#sk-container-id-1 div.sk-label-container {text-align: center;}#sk-container-id-1 div.sk-container {/* jupyter's `normalize.less` sets `[hidden] { display: none; }` but bootstrap.min.css set `[hidden] { display: none !important; }` so we also need the `!important` here to be able to override the default hidden behavior on the sphinx rendered scikit-learn.org. See: https://github.com/scikit-learn/scikit-learn/issues/21755 */display: inline-block !important;position: relative;}#sk-container-id-1 div.sk-text-repr-fallback {display: none;}</style><div id=\"sk-container-id-1\" class=\"sk-top-container\"><div class=\"sk-text-repr-fallback\"><pre>XGBClassifier(base_score=None, booster=None, callbacks=None,\n",
       "              colsample_bylevel=None, colsample_bynode=None,\n",
       "              colsample_bytree=None, device=None, early_stopping_rounds=None,\n",
       "              enable_categorical=False, eval_metric=None, feature_types=None,\n",
       "              gamma=None, grow_policy=None, importance_type=None,\n",
       "              interaction_constraints=None, learning_rate=None, max_bin=None,\n",
       "              max_cat_threshold=None, max_cat_to_onehot=None,\n",
       "              max_delta_step=None, max_depth=None, max_leaves=None,\n",
       "              min_child_weight=None, missing=nan, monotone_constraints=None,\n",
       "              multi_strategy=None, n_estimators=None, n_jobs=None,\n",
       "              num_parallel_tree=None, random_state=None, ...)</pre><b>In a Jupyter environment, please rerun this cell to show the HTML representation or trust the notebook. <br />On GitHub, the HTML representation is unable to render, please try loading this page with nbviewer.org.</b></div><div class=\"sk-container\" hidden><div class=\"sk-item\"><div class=\"sk-estimator sk-toggleable\"><input class=\"sk-toggleable__control sk-hidden--visually\" id=\"sk-estimator-id-1\" type=\"checkbox\" checked><label for=\"sk-estimator-id-1\" class=\"sk-toggleable__label sk-toggleable__label-arrow\">XGBClassifier</label><div class=\"sk-toggleable__content\"><pre>XGBClassifier(base_score=None, booster=None, callbacks=None,\n",
       "              colsample_bylevel=None, colsample_bynode=None,\n",
       "              colsample_bytree=None, device=None, early_stopping_rounds=None,\n",
       "              enable_categorical=False, eval_metric=None, feature_types=None,\n",
       "              gamma=None, grow_policy=None, importance_type=None,\n",
       "              interaction_constraints=None, learning_rate=None, max_bin=None,\n",
       "              max_cat_threshold=None, max_cat_to_onehot=None,\n",
       "              max_delta_step=None, max_depth=None, max_leaves=None,\n",
       "              min_child_weight=None, missing=nan, monotone_constraints=None,\n",
       "              multi_strategy=None, n_estimators=None, n_jobs=None,\n",
       "              num_parallel_tree=None, random_state=None, ...)</pre></div></div></div></div></div>"
      ],
      "text/plain": [
       "XGBClassifier(base_score=None, booster=None, callbacks=None,\n",
       "              colsample_bylevel=None, colsample_bynode=None,\n",
       "              colsample_bytree=None, device=None, early_stopping_rounds=None,\n",
       "              enable_categorical=False, eval_metric=None, feature_types=None,\n",
       "              gamma=None, grow_policy=None, importance_type=None,\n",
       "              interaction_constraints=None, learning_rate=None, max_bin=None,\n",
       "              max_cat_threshold=None, max_cat_to_onehot=None,\n",
       "              max_delta_step=None, max_depth=None, max_leaves=None,\n",
       "              min_child_weight=None, missing=nan, monotone_constraints=None,\n",
       "              multi_strategy=None, n_estimators=None, n_jobs=None,\n",
       "              num_parallel_tree=None, random_state=None, ...)"
      ]
     },
     "execution_count": 22,
     "metadata": {},
     "output_type": "execute_result"
    }
   ],
   "source": [
    "\n",
    "xgb_model = xgb.XGBClassifier()\n",
    "xgb_model.fit(df_train_prep, labels_train)"
   ]
  },
  {
   "cell_type": "code",
   "execution_count": 23,
   "metadata": {},
   "outputs": [],
   "source": [
    "df_test_prep = preprocessor.transform(df_test_unproc)"
   ]
  },
  {
   "cell_type": "code",
   "execution_count": 24,
   "metadata": {},
   "outputs": [],
   "source": [
    "ckpt_dir = 'folktables'\n",
    "os.makedirs(ckpt_dir, exist_ok=True)\n",
    "\n",
    "model_filename = os.path.join(ckpt_dir, f\"xgb_folktables.pkl\")\n",
    "with open(model_filename, \"wb\") as f:\n",
    "        pickle.dump(xgb_model, f)\n",
    "\n",
    "\n",
    "ds_filename = os.path.join(ckpt_dir, f\"folktables_data.pkl\")\n",
    "\n",
    "with open(ds_filename, \"wb\") as f:\n",
    "        pickle.dump({\n",
    "                \"train\": df_train_unproc,\n",
    "                \"test_chunks\": df_test_unproc,\n",
    "                \"numerical\": num,\n",
    "                \"categorical\": categ,\n",
    "                \"transform\": preprocessor\n",
    "        }, f)"
   ]
  },
  {
   "cell_type": "code",
   "execution_count": 25,
   "metadata": {},
   "outputs": [
    {
     "data": {
      "text/plain": [
       "0.8129813712212199"
      ]
     },
     "execution_count": 25,
     "metadata": {},
     "output_type": "execute_result"
    }
   ],
   "source": [
    "xgb_model.score(df_test_prep, labels_test)"
   ]
  },
  {
   "cell_type": "code",
   "execution_count": 26,
   "metadata": {},
   "outputs": [],
   "source": [
    "labels_test_pred= xgb_model.predict(df_test_prep)"
   ]
  },
  {
   "cell_type": "code",
   "execution_count": 28,
   "metadata": {},
   "outputs": [],
   "source": [
    "accs = []\n",
    "from sklearn.metrics import accuracy_score\n",
    "\n",
    "size_year_1 = (features_years[0].shape[0]-train_size)/5000\n",
    "\n",
    "batch_size = 5000\n",
    "s = 0\n",
    "for batch_i, b in enumerate(range(batch_size, df_test_prep.shape[0], batch_size)):\n",
    "    \n",
    "    labels_test_i = labels_test[:b]\n",
    "    labels_test_pred_i = xgb_model.predict(df_test_prep[:b])\n",
    "    accs.append( accuracy_score(labels_test_i, labels_test_pred_i))\n",
    "    if batch_i < size_year_1:\n",
    "        s = batch_i\n"
   ]
  },
  {
   "cell_type": "code",
   "execution_count": 29,
   "metadata": {},
   "outputs": [
    {
     "data": {
      "text/plain": [
       "<matplotlib.legend.Legend at 0x7e174bb65540>"
      ]
     },
     "execution_count": 29,
     "metadata": {},
     "output_type": "execute_result"
    },
    {
     "data": {
      "image/png": "[encoded data removed]",
      "text/plain": [
       "<Figure size 640x480 with 1 Axes>"
      ]
     },
     "metadata": {},
     "output_type": "display_data"
    }
   ],
   "source": [
    "import matplotlib.pyplot as plt\n",
    "plt.plot(accs[:s], '.-', label='2017')\n",
    "plt.plot(range(s, len(accs)), accs[s:], '.-', label='2018')\n",
    "plt.axvline((features_years[0].shape[0]-train_size)/5000, color='r', linestyle='--')\n",
    "plt.legend()"
   ]
  },
  {
   "cell_type": "markdown",
   "metadata": {},
   "source": [
    "# Use drift explorer"
   ]
  },
  {
   "cell_type": "code",
   "execution_count": 30,
   "metadata": {},
   "outputs": [],
   "source": [
    "from sklearn.preprocessing import KBinsDiscretizer\n",
    "\n",
    "from sklearn.preprocessing import OneHotEncoder\n",
    "from sklearn.compose import ColumnTransformer\n",
    "from sklearn.pipeline import Pipeline\n",
    "\n",
    "bool_preprocessor = ColumnTransformer(\n",
    "transformers=[\n",
    "    # numerical features : bins + 1-hot\n",
    "    ('num', Pipeline([\n",
    "        ('bins', KBinsDiscretizer(n_bins=5, encode='onehot-dense', strategy='uniform')),\n",
    "        ]), num),\n",
    "    ('cat', OneHotEncoder(handle_unknown='ignore'), categ)], \n",
    "    sparse_threshold=0)"
   ]
  },
  {
   "cell_type": "code",
   "execution_count": 31,
   "metadata": {},
   "outputs": [],
   "source": [
    "\n",
    "import sys\n",
    "sys.path.append(\"..\")\n",
    "from divexp import *\n",
    "from tqdm import tqdm\n",
    "\n",
    "minsup = 0.01\n",
    "\n",
    "\n",
    "df_train_unsup = pd.DataFrame(data=bool_preprocessor.fit_transform(df_train_unproc), columns=bool_preprocessor.get_feature_names_out()).astype(bool)"
   ]
  },
  {
   "cell_type": "code",
   "execution_count": 32,
   "metadata": {},
   "outputs": [],
   "source": [
    "\n",
    "matches = compute_matches(df_train_unsup, minsup=minsup, n_proc=36)\n",
    "\n",
    "matches_ts_list = []\n",
    "df_tests = []\n",
    "from tqdm import tqdm \n",
    "\n",
    "batch_size = 20000 \n",
    "num_iterations = df_test_unproc.shape[0] // batch_size\n",
    "\n",
    "df_tests_unsup = []\n",
    "for i in range(num_iterations + 1):\n",
    "    start_idx = i * batch_size\n",
    "    end_idx = start_idx + batch_size\n",
    "    df_test_i = df_test_unproc[start_idx:end_idx]\n",
    "    df_test_unsup = pd.DataFrame(bool_preprocessor.transform(df_test_i), columns=bool_preprocessor.get_feature_names_out()).astype(bool)\n",
    "    matches_ts = compute_matches(df_test_unsup, fi=matches.fi)\n",
    "    matches_ts_list.append(matches_ts)\n",
    "    df_tests_unsup.append(df_test_unsup)"
   ]
  },
  {
   "cell_type": "code",
   "execution_count": 50,
   "metadata": {},
   "outputs": [
    {
     "ename": "ValueError",
     "evalue": "dimension mismatch",
     "output_type": "error",
     "traceback": [
      "\u001b[0;31m---------------------------------------------------------------------------\u001b[0m",
      "\u001b[0;31mValueError\u001b[0m                                Traceback (most recent call last)",
      "Cell \u001b[0;32mIn[50], line 18\u001b[0m\n\u001b[1;32m     15\u001b[0m y_trues\u001b[38;5;241m.\u001b[39mextend(y_true_i)\n\u001b[1;32m     16\u001b[0m y_preds\u001b[38;5;241m.\u001b[39mextend(y_pred_i)\n\u001b[0;32m---> 18\u001b[0m divs\u001b[38;5;241m.\u001b[39mappend(\u001b[43mdiv_explorer\u001b[49m\u001b[43m(\u001b[49m\u001b[43mmatches_ts_i\u001b[49m\u001b[43m,\u001b[49m\u001b[43m \u001b[49m\u001b[43my_trues\u001b[49m\u001b[43m,\u001b[49m\u001b[43m \u001b[49m\u001b[43my_preds\u001b[49m\u001b[43m,\u001b[49m\u001b[43m \u001b[49m\u001b[43m[\u001b[49m\u001b[38;5;124;43m'\u001b[39;49m\u001b[38;5;124;43maccuracy\u001b[39;49m\u001b[38;5;124;43m'\u001b[39;49m\u001b[43m]\u001b[49m\u001b[43m)\u001b[49m)\n",
      "File \u001b[0;32m~/projects/drift-explorer-exp/drift-explorer/src/adult/../divexp.py:164\u001b[0m, in \u001b[0;36mdiv_explorer\u001b[0;34m(matches_obj, y_true, y_pred, metrics_list)\u001b[0m\n\u001b[1;32m    159\u001b[0m conf_matrix \u001b[38;5;241m=\u001b[39m np\u001b[38;5;241m.\u001b[39mvstack([((y_true \u001b[38;5;241m==\u001b[39m y_pred) \u001b[38;5;241m&\u001b[39m (y_pred \u001b[38;5;241m==\u001b[39m \u001b[38;5;241m1\u001b[39m)), \\\n\u001b[1;32m    160\u001b[0m               ((y_true \u001b[38;5;241m==\u001b[39m y_pred) \u001b[38;5;241m&\u001b[39m (y_pred \u001b[38;5;241m==\u001b[39m \u001b[38;5;241m0\u001b[39m)), \\\n\u001b[1;32m    161\u001b[0m               ((y_true \u001b[38;5;241m!=\u001b[39m y_pred) \u001b[38;5;241m&\u001b[39m (y_pred \u001b[38;5;241m==\u001b[39m \u001b[38;5;241m1\u001b[39m)), \\\n\u001b[1;32m    162\u001b[0m               ((y_true \u001b[38;5;241m!=\u001b[39m y_pred) \u001b[38;5;241m&\u001b[39m (y_pred \u001b[38;5;241m==\u001b[39m \u001b[38;5;241m0\u001b[39m))])\n\u001b[1;32m    163\u001b[0m conf_matrix_all \u001b[38;5;241m=\u001b[39m conf_matrix\u001b[38;5;241m.\u001b[39msum(axis\u001b[38;5;241m=\u001b[39m\u001b[38;5;241m1\u001b[39m) \u001b[38;5;66;03m# tp_all, tn_all, fp_all, fn_all\u001b[39;00m\n\u001b[0;32m--> 164\u001b[0m conf_matrix_grp \u001b[38;5;241m=\u001b[39m \u001b[43mconf_matrix\u001b[49m\u001b[43m \u001b[49m\u001b[38;5;241;43m@\u001b[39;49m\u001b[43m \u001b[49m\u001b[43mmatches\u001b[49m\n\u001b[1;32m    166\u001b[0m known_metrics \u001b[38;5;241m=\u001b[39m {\n\u001b[1;32m    167\u001b[0m     \u001b[38;5;124m\"\u001b[39m\u001b[38;5;124mfpr\u001b[39m\u001b[38;5;124m\"\u001b[39m: fpr_eff,\n\u001b[1;32m    168\u001b[0m     \u001b[38;5;124m\"\u001b[39m\u001b[38;5;124merror\u001b[39m\u001b[38;5;124m\"\u001b[39m: error_eff,\n\u001b[0;32m   (...)\u001b[0m\n\u001b[1;32m    171\u001b[0m     \u001b[38;5;124m\"\u001b[39m\u001b[38;5;124mtnr\u001b[39m\u001b[38;5;124m\"\u001b[39m: tnr_eff,\n\u001b[1;32m    172\u001b[0m }\n\u001b[1;32m    173\u001b[0m metrics_list \u001b[38;5;241m=\u001b[39m [ m \u001b[38;5;28;01mfor\u001b[39;00m m \u001b[38;5;129;01min\u001b[39;00m metrics_list \u001b[38;5;28;01mif\u001b[39;00m m \u001b[38;5;129;01min\u001b[39;00m known_metrics ]\n",
      "File \u001b[0;32m~/miniconda3/envs/torch/lib/python3.10/site-packages/scipy/sparse/_base.py:636\u001b[0m, in \u001b[0;36mspmatrix.__rmatmul__\u001b[0;34m(self, other)\u001b[0m\n\u001b[1;32m    633\u001b[0m \u001b[38;5;28;01mif\u001b[39;00m isscalarlike(other):\n\u001b[1;32m    634\u001b[0m     \u001b[38;5;28;01mraise\u001b[39;00m \u001b[38;5;167;01mValueError\u001b[39;00m(\u001b[38;5;124m\"\u001b[39m\u001b[38;5;124mScalar operands are not allowed, \u001b[39m\u001b[38;5;124m\"\u001b[39m\n\u001b[1;32m    635\u001b[0m                      \u001b[38;5;124m\"\u001b[39m\u001b[38;5;124muse \u001b[39m\u001b[38;5;124m'\u001b[39m\u001b[38;5;124m*\u001b[39m\u001b[38;5;124m'\u001b[39m\u001b[38;5;124m instead\u001b[39m\u001b[38;5;124m\"\u001b[39m)\n\u001b[0;32m--> 636\u001b[0m \u001b[38;5;28;01mreturn\u001b[39;00m \u001b[38;5;28;43mself\u001b[39;49m\u001b[38;5;241;43m.\u001b[39;49m\u001b[43m_rmul_dispatch\u001b[49m\u001b[43m(\u001b[49m\u001b[43mother\u001b[49m\u001b[43m)\u001b[49m\n",
      "File \u001b[0;32m~/miniconda3/envs/torch/lib/python3.10/site-packages/scipy/sparse/_base.py:614\u001b[0m, in \u001b[0;36mspmatrix._rmul_dispatch\u001b[0;34m(self, other)\u001b[0m\n\u001b[1;32m    612\u001b[0m \u001b[38;5;28;01mexcept\u001b[39;00m \u001b[38;5;167;01mAttributeError\u001b[39;00m:\n\u001b[1;32m    613\u001b[0m     tr \u001b[38;5;241m=\u001b[39m np\u001b[38;5;241m.\u001b[39masarray(other)\u001b[38;5;241m.\u001b[39mtranspose()\n\u001b[0;32m--> 614\u001b[0m ret \u001b[38;5;241m=\u001b[39m \u001b[38;5;28;43mself\u001b[39;49m\u001b[38;5;241;43m.\u001b[39;49m\u001b[43mtranspose\u001b[49m\u001b[43m(\u001b[49m\u001b[43m)\u001b[49m\u001b[38;5;241;43m.\u001b[39;49m\u001b[43m_mul_dispatch\u001b[49m\u001b[43m(\u001b[49m\u001b[43mtr\u001b[49m\u001b[43m)\u001b[49m\n\u001b[1;32m    615\u001b[0m \u001b[38;5;28;01mif\u001b[39;00m ret \u001b[38;5;129;01mis\u001b[39;00m \u001b[38;5;28mNotImplemented\u001b[39m:\n\u001b[1;32m    616\u001b[0m     \u001b[38;5;28;01mreturn\u001b[39;00m \u001b[38;5;28mNotImplemented\u001b[39m\n",
      "File \u001b[0;32m~/miniconda3/envs/torch/lib/python3.10/site-packages/scipy/sparse/_base.py:577\u001b[0m, in \u001b[0;36mspmatrix._mul_dispatch\u001b[0;34m(self, other)\u001b[0m\n\u001b[1;32m    572\u001b[0m \u001b[38;5;28;01melif\u001b[39;00m other\u001b[38;5;241m.\u001b[39mndim \u001b[38;5;241m==\u001b[39m \u001b[38;5;241m2\u001b[39m:\n\u001b[1;32m    573\u001b[0m     \u001b[38;5;66;03m##\u001b[39;00m\n\u001b[1;32m    574\u001b[0m     \u001b[38;5;66;03m# dense 2D array or matrix (\"multivector\")\u001b[39;00m\n\u001b[1;32m    576\u001b[0m     \u001b[38;5;28;01mif\u001b[39;00m other\u001b[38;5;241m.\u001b[39mshape[\u001b[38;5;241m0\u001b[39m] \u001b[38;5;241m!=\u001b[39m \u001b[38;5;28mself\u001b[39m\u001b[38;5;241m.\u001b[39mshape[\u001b[38;5;241m1\u001b[39m]:\n\u001b[0;32m--> 577\u001b[0m         \u001b[38;5;28;01mraise\u001b[39;00m \u001b[38;5;167;01mValueError\u001b[39;00m(\u001b[38;5;124m'\u001b[39m\u001b[38;5;124mdimension mismatch\u001b[39m\u001b[38;5;124m'\u001b[39m)\n\u001b[1;32m    579\u001b[0m     result \u001b[38;5;241m=\u001b[39m \u001b[38;5;28mself\u001b[39m\u001b[38;5;241m.\u001b[39m_mul_multivector(np\u001b[38;5;241m.\u001b[39masarray(other))\n\u001b[1;32m    581\u001b[0m     \u001b[38;5;28;01mif\u001b[39;00m \u001b[38;5;28misinstance\u001b[39m(other, np\u001b[38;5;241m.\u001b[39mmatrix):\n",
      "\u001b[0;31mValueError\u001b[0m: dimension mismatch"
     ]
    }
   ],
   "source": [
    "y_trues = []\n",
    "y_preds = []\n",
    "\n",
    "divs = []\n",
    "\n",
    "for i in range(num_iterations + 1):\n",
    "    start_idx = i * batch_size\n",
    "    end_idx = start_idx + batch_size\n",
    "    df_test_prep_i = df_test_prep[start_idx:end_idx]\n",
    "    y_true_i = labels_test[start_idx:end_idx]\n",
    "    y_pred_i = xgb_model.predict(df_test_prep_i)\n",
    "\n",
    "    matches_ts_i = matches_ts_list[i]\n",
    "\n",
    "    y_trues.extend(y_true_i)\n",
    "    y_preds.extend(y_pred_i)\n",
    "\n",
    "    divs.append(div_explorer(matches_ts_i, y_trues, y_preds, ['accuracy']))"
   ]
  },
  {
   "cell_type": "code",
   "execution_count": 51,
   "metadata": {},
   "outputs": [
    {
     "data": {
      "text/plain": [
       "Matches(matches=<20000x6071 sparse array of type '<class 'numpy.bool_'>'\n",
       "\twith 3255130 stored elements in Compressed Sparse Row format>, fi=       support        itemsets\n",
       "0     0.531486           (764)\n",
       "1     0.527355            (42)\n",
       "2     0.467270           (746)\n",
       "3     0.307009             (1)\n",
       "4     0.169264            (33)\n",
       "...        ...             ...\n",
       "6066  0.010683       (10, 763)\n",
       "6067  0.010750  (46, 763, 766)\n",
       "6068  0.010294  (528, 763, 46)\n",
       "6069  0.016130    (0, 763, 46)\n",
       "6070  0.010035  (763, 764, 46)\n",
       "\n",
       "[6071 rows x 2 columns])"
      ]
     },
     "execution_count": 51,
     "metadata": {},
     "output_type": "execute_result"
    }
   ],
   "source": [
    "matches_ts_i"
   ]
  },
  {
   "cell_type": "code",
   "execution_count": 52,
   "metadata": {},
   "outputs": [
    {
     "data": {
      "text/plain": [
       "(20000, 20000)"
      ]
     },
     "execution_count": 52,
     "metadata": {},
     "output_type": "execute_result"
    }
   ],
   "source": [
    "len(y_trues), len(y_preds)"
   ]
  },
  {
   "cell_type": "code",
   "execution_count": 43,
   "metadata": {},
   "outputs": [
    {
     "data": {
      "text/plain": [
       "Matches(matches=<20000x6071 sparse array of type '<class 'numpy.bool_'>'\n",
       "\twith 3255130 stored elements in Compressed Sparse Row format>, fi=       support        itemsets\n",
       "0     0.531486           (764)\n",
       "1     0.527355            (42)\n",
       "2     0.467270           (746)\n",
       "3     0.307009             (1)\n",
       "4     0.169264            (33)\n",
       "...        ...             ...\n",
       "6066  0.010683       (10, 763)\n",
       "6067  0.010750  (46, 763, 766)\n",
       "6068  0.010294  (528, 763, 46)\n",
       "6069  0.016130    (0, 763, 46)\n",
       "6070  0.010035  (763, 764, 46)\n",
       "\n",
       "[6071 rows x 2 columns])"
      ]
     },
     "execution_count": 43,
     "metadata": {},
     "output_type": "execute_result"
    }
   ],
   "source": [
    "matches_ts_i"
   ]
  },
  {
   "cell_type": "code",
   "execution_count": 38,
   "metadata": {},
   "outputs": [
    {
     "data": {
      "text/plain": [
       "2"
      ]
     },
     "execution_count": 38,
     "metadata": {},
     "output_type": "execute_result"
    }
   ],
   "source": [
    "len(matches_ts)"
   ]
  },
  {
   "cell_type": "code",
   "execution_count": 35,
   "metadata": {},
   "outputs": [
    {
     "data": {
      "text/plain": [
       "True"
      ]
     },
     "execution_count": 35,
     "metadata": {},
     "output_type": "execute_result"
    }
   ],
   "source": [
    "for (x, y), (mask_batch,) in tqdm(zip(dl, dl_mask), total=len(dl)):\n",
    "                    md = y[:, metadata_mask].numpy().astype(int)\n",
    "\n",
    "                    # apply blur, if required\n",
    "                    # if blur is not None:\n",
    "                    #     # only add noise to points in target subgroups\n",
    "                    #     # mask = (md[:, sg] == 1).all(axis=1)\n",
    "                    #     if mask.any():\n",
    "                    #         num_altered += mask.sum()\n",
    "                    #         x[mask] = blur(x[mask])\n",
    "                    if blur is not None and mask_batch.any():\n",
    "                        num_altered += mask_batch.sum().item()\n",
    "                        x[mask_batch] = blur(x[mask_batch])\n",
    "                    \n",
    "                    if mask_batch.any() and samples[pos] is None:\n",
    "                        samples[pos] = x[mask_batch][0].cpu().numpy().transpose(1, 2, 0)\n",
    "\n",
    "                    out = model(x.to(args.device))\n",
    "                    preds = (out > 0).cpu().numpy().astype(int)\n",
    "                    y_pred.extend(preds)\n",
    "                    y_true.extend(y[:, attr_id].numpy().astype(int))\n",
    "                    metadata.extend(md)\n",
    "                \n",
    "                y_true = np.hstack(y_true)\n",
    "                y_pred = np.hstack(y_pred)\n",
    "                metadata = np.vstack(metadata)\n",
    "\n",
    "                y_trues.append(y_true)\n",
    "                y_preds.append(y_pred)\n",
    "\n",
    "                divs.append(div_explorer(matches_ts, y_true, y_pred, [args.metric]))"
   ]
  },
  {
   "cell_type": "code",
   "execution_count": null,
   "metadata": {},
   "outputs": [],
   "source": []
  }
 ],
 "metadata": {
  "kernelspec": {
   "display_name": "torch",
   "language": "python",
   "name": "torch"
  },
  "language_info": {
   "codemirror_mode": {
    "name": "ipython",
    "version": 3
   },
   "file_extension": ".py",
   "mimetype": "text/x-python",
   "name": "python",
   "nbconvert_exporter": "python",
   "pygments_lexer": "ipython3",
   "version": "3.10.8"
  }
 },
 "nbformat": 4,
 "nbformat_minor": 2
}
